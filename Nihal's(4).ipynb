{
  "nbformat": 4,
  "nbformat_minor": 0,
  "metadata": {
    "kernelspec": {
      "display_name": "Python 3",
      "language": "python",
      "name": "python3"
    },
    "language_info": {
      "codemirror_mode": {
        "name": "ipython",
        "version": 3
      },
      "file_extension": ".py",
      "mimetype": "text/x-python",
      "name": "python",
      "nbconvert_exporter": "python",
      "pygments_lexer": "ipython3",
      "version": "3.7.9"
    },
    "colab": {
      "name": "Nihal's(2).ipynb",
      "provenance": [],
      "collapsed_sections": [
        "L7hp1FsW_JEG",
        "oBH1pwOcQ_0a"
      ],
      "include_colab_link": true
    },
    "accelerator": "GPU"
  },
  "cells": [
    {
      "cell_type": "markdown",
      "metadata": {
        "id": "view-in-github",
        "colab_type": "text"
      },
      "source": [
        "<a href=\"https://colab.research.google.com/github/realnihal/Housing-Price-Prediction-Model/blob/master/Nihal's(4).ipynb\" target=\"_parent\"><img src=\"https://colab.research.google.com/assets/colab-badge.svg\" alt=\"Open In Colab\"/></a>"
      ]
    },
    {
      "cell_type": "code",
      "metadata": {
        "id": "33L8XsVafnR0"
      },
      "source": [
        "from datetime import datetime\n",
        "import pandas as pd\n",
        "import numpy as np\n",
        "import pandas_datareader.data as web\n",
        "import matplotlib.pyplot as plt"
      ],
      "execution_count": 46,
      "outputs": []
    },
    {
      "cell_type": "markdown",
      "metadata": {
        "id": "ewmxjdrtiOPH"
      },
      "source": [
        "#**Getting** **basic data**"
      ]
    },
    {
      "cell_type": "code",
      "metadata": {
        "id": "sln8ahPlfnR3"
      },
      "source": [
        "start = datetime(1999, 3, 9)\n",
        "end = datetime.today()\n",
        "yahoo = web.DataReader('AMZN','yahoo',start=start,end=end)\n",
        "yahoo.info\n",
        "data = yahoo"
      ],
      "execution_count": 47,
      "outputs": []
    },
    {
      "cell_type": "code",
      "metadata": {
        "id": "eplIDO1efnR7",
        "outputId": "cb8d2a58-1036-49ef-8c1c-04f43ad84b41",
        "colab": {
          "base_uri": "https://localhost:8080/",
          "height": 225
        }
      },
      "source": [
        "data.to_csv('DATA.csv')\n",
        "data.tail()"
      ],
      "execution_count": 48,
      "outputs": [
        {
          "output_type": "execute_result",
          "data": {
            "text/html": [
              "<div>\n",
              "<style scoped>\n",
              "    .dataframe tbody tr th:only-of-type {\n",
              "        vertical-align: middle;\n",
              "    }\n",
              "\n",
              "    .dataframe tbody tr th {\n",
              "        vertical-align: top;\n",
              "    }\n",
              "\n",
              "    .dataframe thead th {\n",
              "        text-align: right;\n",
              "    }\n",
              "</style>\n",
              "<table border=\"1\" class=\"dataframe\">\n",
              "  <thead>\n",
              "    <tr style=\"text-align: right;\">\n",
              "      <th></th>\n",
              "      <th>High</th>\n",
              "      <th>Low</th>\n",
              "      <th>Open</th>\n",
              "      <th>Close</th>\n",
              "      <th>Volume</th>\n",
              "      <th>Adj Close</th>\n",
              "    </tr>\n",
              "    <tr>\n",
              "      <th>Date</th>\n",
              "      <th></th>\n",
              "      <th></th>\n",
              "      <th></th>\n",
              "      <th></th>\n",
              "      <th></th>\n",
              "      <th></th>\n",
              "    </tr>\n",
              "  </thead>\n",
              "  <tbody>\n",
              "    <tr>\n",
              "      <th>2020-10-29</th>\n",
              "      <td>3257.250000</td>\n",
              "      <td>3164.000000</td>\n",
              "      <td>3201.270020</td>\n",
              "      <td>3211.010010</td>\n",
              "      <td>6596500.0</td>\n",
              "      <td>3211.010010</td>\n",
              "    </tr>\n",
              "    <tr>\n",
              "      <th>2020-10-30</th>\n",
              "      <td>3167.000000</td>\n",
              "      <td>3019.000000</td>\n",
              "      <td>3157.750000</td>\n",
              "      <td>3036.149902</td>\n",
              "      <td>8386400.0</td>\n",
              "      <td>3036.149902</td>\n",
              "    </tr>\n",
              "    <tr>\n",
              "      <th>2020-11-02</th>\n",
              "      <td>3079.709961</td>\n",
              "      <td>2950.120117</td>\n",
              "      <td>3061.739990</td>\n",
              "      <td>3004.479980</td>\n",
              "      <td>7257400.0</td>\n",
              "      <td>3004.479980</td>\n",
              "    </tr>\n",
              "    <tr>\n",
              "      <th>2020-11-03</th>\n",
              "      <td>3074.899902</td>\n",
              "      <td>2980.979980</td>\n",
              "      <td>3018.530029</td>\n",
              "      <td>3048.409912</td>\n",
              "      <td>4874400.0</td>\n",
              "      <td>3048.409912</td>\n",
              "    </tr>\n",
              "    <tr>\n",
              "      <th>2020-11-04</th>\n",
              "      <td>3243.330078</td>\n",
              "      <td>3139.729980</td>\n",
              "      <td>3159.989990</td>\n",
              "      <td>3232.889893</td>\n",
              "      <td>4311201.0</td>\n",
              "      <td>3232.889893</td>\n",
              "    </tr>\n",
              "  </tbody>\n",
              "</table>\n",
              "</div>"
            ],
            "text/plain": [
              "                   High          Low  ...     Volume    Adj Close\n",
              "Date                                  ...                        \n",
              "2020-10-29  3257.250000  3164.000000  ...  6596500.0  3211.010010\n",
              "2020-10-30  3167.000000  3019.000000  ...  8386400.0  3036.149902\n",
              "2020-11-02  3079.709961  2950.120117  ...  7257400.0  3004.479980\n",
              "2020-11-03  3074.899902  2980.979980  ...  4874400.0  3048.409912\n",
              "2020-11-04  3243.330078  3139.729980  ...  4311201.0  3232.889893\n",
              "\n",
              "[5 rows x 6 columns]"
            ]
          },
          "metadata": {
            "tags": []
          },
          "execution_count": 48
        }
      ]
    },
    {
      "cell_type": "code",
      "metadata": {
        "id": "6W3dBOoofnR-",
        "outputId": "8f02a516-a803-4efc-e87e-a9f096580aa6",
        "colab": {
          "base_uri": "https://localhost:8080/",
          "height": 320
        }
      },
      "source": [
        "df = data.reset_index()['Close']\n",
        "plt.figure(figsize = (14,5))\n",
        "plt.plot(df)\n",
        "plt.show()"
      ],
      "execution_count": 49,
      "outputs": [
        {
          "output_type": "display_data",
          "data": {
            "image/png": "[encoded data removed]",
            "text/plain": [
              "<Figure size 1008x360 with 1 Axes>"
            ]
          },
          "metadata": {
            "tags": [],
            "needs_background": "light"
          }
        }
      ]
    },
    {
      "cell_type": "code",
      "metadata": {
        "id": "VwE9IBZmfnSH",
        "outputId": "1d6b3863-9bf6-4ed2-b7a5-873294db283e",
        "colab": {
          "base_uri": "https://localhost:8080/",
          "height": 284
        }
      },
      "source": [
        "data.describe()"
      ],
      "execution_count": 50,
      "outputs": [
        {
          "output_type": "execute_result",
          "data": {
            "text/html": [
              "<div>\n",
              "<style scoped>\n",
              "    .dataframe tbody tr th:only-of-type {\n",
              "        vertical-align: middle;\n",
              "    }\n",
              "\n",
              "    .dataframe tbody tr th {\n",
              "        vertical-align: top;\n",
              "    }\n",
              "\n",
              "    .dataframe thead th {\n",
              "        text-align: right;\n",
              "    }\n",
              "</style>\n",
              "<table border=\"1\" class=\"dataframe\">\n",
              "  <thead>\n",
              "    <tr style=\"text-align: right;\">\n",
              "      <th></th>\n",
              "      <th>High</th>\n",
              "      <th>Low</th>\n",
              "      <th>Open</th>\n",
              "      <th>Close</th>\n",
              "      <th>Volume</th>\n",
              "      <th>Adj Close</th>\n",
              "    </tr>\n",
              "  </thead>\n",
              "  <tbody>\n",
              "    <tr>\n",
              "      <th>count</th>\n",
              "      <td>5453.000000</td>\n",
              "      <td>5453.000000</td>\n",
              "      <td>5453.000000</td>\n",
              "      <td>5453.000000</td>\n",
              "      <td>5.453000e+03</td>\n",
              "      <td>5453.000000</td>\n",
              "    </tr>\n",
              "    <tr>\n",
              "      <th>mean</th>\n",
              "      <td>442.467492</td>\n",
              "      <td>431.974003</td>\n",
              "      <td>437.492917</td>\n",
              "      <td>437.451846</td>\n",
              "      <td>6.835178e+06</td>\n",
              "      <td>437.451846</td>\n",
              "    </tr>\n",
              "    <tr>\n",
              "      <th>std</th>\n",
              "      <td>679.813953</td>\n",
              "      <td>663.548260</td>\n",
              "      <td>672.275092</td>\n",
              "      <td>671.974864</td>\n",
              "      <td>5.598460e+06</td>\n",
              "      <td>671.974864</td>\n",
              "    </tr>\n",
              "    <tr>\n",
              "      <th>min</th>\n",
              "      <td>6.100000</td>\n",
              "      <td>5.510000</td>\n",
              "      <td>5.910000</td>\n",
              "      <td>5.970000</td>\n",
              "      <td>8.813000e+05</td>\n",
              "      <td>5.970000</td>\n",
              "    </tr>\n",
              "    <tr>\n",
              "      <th>25%</th>\n",
              "      <td>43.200001</td>\n",
              "      <td>41.625000</td>\n",
              "      <td>42.380001</td>\n",
              "      <td>42.439999</td>\n",
              "      <td>3.689300e+06</td>\n",
              "      <td>42.439999</td>\n",
              "    </tr>\n",
              "    <tr>\n",
              "      <th>50%</th>\n",
              "      <td>122.870003</td>\n",
              "      <td>118.019997</td>\n",
              "      <td>120.559998</td>\n",
              "      <td>120.309998</td>\n",
              "      <td>5.535200e+06</td>\n",
              "      <td>120.309998</td>\n",
              "    </tr>\n",
              "    <tr>\n",
              "      <th>75%</th>\n",
              "      <td>435.989990</td>\n",
              "      <td>428.260010</td>\n",
              "      <td>431.549988</td>\n",
              "      <td>431.420013</td>\n",
              "      <td>8.046700e+06</td>\n",
              "      <td>431.420013</td>\n",
              "    </tr>\n",
              "    <tr>\n",
              "      <th>max</th>\n",
              "      <td>3552.250000</td>\n",
              "      <td>3486.689941</td>\n",
              "      <td>3547.000000</td>\n",
              "      <td>3531.449951</td>\n",
              "      <td>1.043292e+08</td>\n",
              "      <td>3531.449951</td>\n",
              "    </tr>\n",
              "  </tbody>\n",
              "</table>\n",
              "</div>"
            ],
            "text/plain": [
              "              High          Low  ...        Volume    Adj Close\n",
              "count  5453.000000  5453.000000  ...  5.453000e+03  5453.000000\n",
              "mean    442.467492   431.974003  ...  6.835178e+06   437.451846\n",
              "std     679.813953   663.548260  ...  5.598460e+06   671.974864\n",
              "min       6.100000     5.510000  ...  8.813000e+05     5.970000\n",
              "25%      43.200001    41.625000  ...  3.689300e+06    42.439999\n",
              "50%     122.870003   118.019997  ...  5.535200e+06   120.309998\n",
              "75%     435.989990   428.260010  ...  8.046700e+06   431.420013\n",
              "max    3552.250000  3486.689941  ...  1.043292e+08  3531.449951\n",
              "\n",
              "[8 rows x 6 columns]"
            ]
          },
          "metadata": {
            "tags": []
          },
          "execution_count": 50
        }
      ]
    },
    {
      "cell_type": "code",
      "metadata": {
        "id": "A7Y1eUTo3Gwg",
        "outputId": "0587c7cf-6fa9-4c16-9082-66f7179f783b",
        "colab": {
          "base_uri": "https://localhost:8080/"
        }
      },
      "source": [
        "data.info()"
      ],
      "execution_count": 51,
      "outputs": [
        {
          "output_type": "stream",
          "text": [
            "<class 'pandas.core.frame.DataFrame'>\n",
            "DatetimeIndex: 5453 entries, 1999-03-09 to 2020-11-04\n",
            "Data columns (total 6 columns):\n",
            " #   Column     Non-Null Count  Dtype  \n",
            "---  ------     --------------  -----  \n",
            " 0   High       5453 non-null   float64\n",
            " 1   Low        5453 non-null   float64\n",
            " 2   Open       5453 non-null   float64\n",
            " 3   Close      5453 non-null   float64\n",
            " 4   Volume     5453 non-null   float64\n",
            " 5   Adj Close  5453 non-null   float64\n",
            "dtypes: float64(6)\n",
            "memory usage: 298.2 KB\n"
          ],
          "name": "stdout"
        }
      ]
    },
    {
      "cell_type": "code",
      "metadata": {
        "id": "pKLaR7Tv1uqj",
        "outputId": "18f0ca2e-fafa-4245-d92c-a4ee7c03fa3e",
        "colab": {
          "base_uri": "https://localhost:8080/"
        }
      },
      "source": [
        "df.describe()"
      ],
      "execution_count": 52,
      "outputs": [
        {
          "output_type": "execute_result",
          "data": {
            "text/plain": [
              "count    5453.000000\n",
              "mean      437.451846\n",
              "std       671.974864\n",
              "min         5.970000\n",
              "25%        42.439999\n",
              "50%       120.309998\n",
              "75%       431.420013\n",
              "max      3531.449951\n",
              "Name: Close, dtype: float64"
            ]
          },
          "metadata": {
            "tags": []
          },
          "execution_count": 52
        }
      ]
    },
    {
      "cell_type": "markdown",
      "metadata": {
        "id": "vJWJ_MaF8VO8"
      },
      "source": [
        "#**Creating more features**"
      ]
    },
    {
      "cell_type": "code",
      "metadata": {
        "id": "XnpHdnoz2wVz",
        "outputId": "52110f37-fa11-4754-f68b-860bf3350a1e",
        "colab": {
          "base_uri": "https://localhost:8080/",
          "height": 195
        }
      },
      "source": [
        "#closing prices to opening prices (changes) net gain in day\n",
        "features = pd.DataFrame(index=df.index).sort_index()\n",
        "features['f01'] = data.reset_index()['Close']/data.reset_index()['Open']-1\n",
        "features.head()"
      ],
      "execution_count": 53,
      "outputs": [
        {
          "output_type": "execute_result",
          "data": {
            "text/html": [
              "<div>\n",
              "<style scoped>\n",
              "    .dataframe tbody tr th:only-of-type {\n",
              "        vertical-align: middle;\n",
              "    }\n",
              "\n",
              "    .dataframe tbody tr th {\n",
              "        vertical-align: top;\n",
              "    }\n",
              "\n",
              "    .dataframe thead th {\n",
              "        text-align: right;\n",
              "    }\n",
              "</style>\n",
              "<table border=\"1\" class=\"dataframe\">\n",
              "  <thead>\n",
              "    <tr style=\"text-align: right;\">\n",
              "      <th></th>\n",
              "      <th>f01</th>\n",
              "    </tr>\n",
              "  </thead>\n",
              "  <tbody>\n",
              "    <tr>\n",
              "      <th>0</th>\n",
              "      <td>0.038462</td>\n",
              "    </tr>\n",
              "    <tr>\n",
              "      <th>1</th>\n",
              "      <td>0.002742</td>\n",
              "    </tr>\n",
              "    <tr>\n",
              "      <th>2</th>\n",
              "      <td>-0.034884</td>\n",
              "    </tr>\n",
              "    <tr>\n",
              "      <th>3</th>\n",
              "      <td>-0.005131</td>\n",
              "    </tr>\n",
              "    <tr>\n",
              "      <th>4</th>\n",
              "      <td>0.044643</td>\n",
              "    </tr>\n",
              "  </tbody>\n",
              "</table>\n",
              "</div>"
            ],
            "text/plain": [
              "        f01\n",
              "0  0.038462\n",
              "1  0.002742\n",
              "2 -0.034884\n",
              "3 -0.005131\n",
              "4  0.044643"
            ]
          },
          "metadata": {
            "tags": []
          },
          "execution_count": 53
        }
      ]
    },
    {
      "cell_type": "code",
      "metadata": {
        "id": "dNfSQ-QM6LS0",
        "outputId": "9228f5b7-812e-491e-ee92-605b6b59c786",
        "colab": {
          "base_uri": "https://localhost:8080/",
          "height": 195
        }
      },
      "source": [
        "#opening prices compared to previous days closing prices (changes)\n",
        "array = data.reset_index()['Open']/data.reset_index()['Close'].shift(-1)-1\n",
        "features['f02'] = array\n",
        "features.tail()"
      ],
      "execution_count": 54,
      "outputs": [
        {
          "output_type": "execute_result",
          "data": {
            "text/html": [
              "<div>\n",
              "<style scoped>\n",
              "    .dataframe tbody tr th:only-of-type {\n",
              "        vertical-align: middle;\n",
              "    }\n",
              "\n",
              "    .dataframe tbody tr th {\n",
              "        vertical-align: top;\n",
              "    }\n",
              "\n",
              "    .dataframe thead th {\n",
              "        text-align: right;\n",
              "    }\n",
              "</style>\n",
              "<table border=\"1\" class=\"dataframe\">\n",
              "  <thead>\n",
              "    <tr style=\"text-align: right;\">\n",
              "      <th></th>\n",
              "      <th>f01</th>\n",
              "      <th>f02</th>\n",
              "    </tr>\n",
              "  </thead>\n",
              "  <tbody>\n",
              "    <tr>\n",
              "      <th>5448</th>\n",
              "      <td>0.003043</td>\n",
              "      <td>0.054385</td>\n",
              "    </tr>\n",
              "    <tr>\n",
              "      <th>5449</th>\n",
              "      <td>-0.038508</td>\n",
              "      <td>0.051014</td>\n",
              "    </tr>\n",
              "    <tr>\n",
              "      <th>5450</th>\n",
              "      <td>-0.018702</td>\n",
              "      <td>0.004373</td>\n",
              "    </tr>\n",
              "    <tr>\n",
              "      <th>5451</th>\n",
              "      <td>0.009899</td>\n",
              "      <td>-0.066306</td>\n",
              "    </tr>\n",
              "    <tr>\n",
              "      <th>5452</th>\n",
              "      <td>0.023070</td>\n",
              "      <td>NaN</td>\n",
              "    </tr>\n",
              "  </tbody>\n",
              "</table>\n",
              "</div>"
            ],
            "text/plain": [
              "           f01       f02\n",
              "5448  0.003043  0.054385\n",
              "5449 -0.038508  0.051014\n",
              "5450 -0.018702  0.004373\n",
              "5451  0.009899 -0.066306\n",
              "5452  0.023070       NaN"
            ]
          },
          "metadata": {
            "tags": []
          },
          "execution_count": 54
        }
      ]
    },
    {
      "cell_type": "code",
      "metadata": {
        "id": "-yeohvbkA21-",
        "outputId": "ac2d40b3-ea0b-482a-cd3d-6d8205617df3",
        "colab": {
          "base_uri": "https://localhost:8080/",
          "height": 195
        }
      },
      "source": [
        "#volume logs\n",
        "array = data.reset_index()['Volume'].apply(np.log)\n",
        "features['f03'] = array\n",
        "features.tail()"
      ],
      "execution_count": 55,
      "outputs": [
        {
          "output_type": "execute_result",
          "data": {
            "text/html": [
              "<div>\n",
              "<style scoped>\n",
              "    .dataframe tbody tr th:only-of-type {\n",
              "        vertical-align: middle;\n",
              "    }\n",
              "\n",
              "    .dataframe tbody tr th {\n",
              "        vertical-align: top;\n",
              "    }\n",
              "\n",
              "    .dataframe thead th {\n",
              "        text-align: right;\n",
              "    }\n",
              "</style>\n",
              "<table border=\"1\" class=\"dataframe\">\n",
              "  <thead>\n",
              "    <tr style=\"text-align: right;\">\n",
              "      <th></th>\n",
              "      <th>f01</th>\n",
              "      <th>f02</th>\n",
              "      <th>f03</th>\n",
              "    </tr>\n",
              "  </thead>\n",
              "  <tbody>\n",
              "    <tr>\n",
              "      <th>5448</th>\n",
              "      <td>0.003043</td>\n",
              "      <td>0.054385</td>\n",
              "      <td>15.702050</td>\n",
              "    </tr>\n",
              "    <tr>\n",
              "      <th>5449</th>\n",
              "      <td>-0.038508</td>\n",
              "      <td>0.051014</td>\n",
              "      <td>15.942122</td>\n",
              "    </tr>\n",
              "    <tr>\n",
              "      <th>5450</th>\n",
              "      <td>-0.018702</td>\n",
              "      <td>0.004373</td>\n",
              "      <td>15.797532</td>\n",
              "    </tr>\n",
              "    <tr>\n",
              "      <th>5451</th>\n",
              "      <td>0.009899</td>\n",
              "      <td>-0.066306</td>\n",
              "      <td>15.399508</td>\n",
              "    </tr>\n",
              "    <tr>\n",
              "      <th>5452</th>\n",
              "      <td>0.023070</td>\n",
              "      <td>NaN</td>\n",
              "      <td>15.276727</td>\n",
              "    </tr>\n",
              "  </tbody>\n",
              "</table>\n",
              "</div>"
            ],
            "text/plain": [
              "           f01       f02        f03\n",
              "5448  0.003043  0.054385  15.702050\n",
              "5449 -0.038508  0.051014  15.942122\n",
              "5450 -0.018702  0.004373  15.797532\n",
              "5451  0.009899 -0.066306  15.399508\n",
              "5452  0.023070       NaN  15.276727"
            ]
          },
          "metadata": {
            "tags": []
          },
          "execution_count": 55
        }
      ]
    },
    {
      "cell_type": "code",
      "metadata": {
        "id": "XKyqJhmXBtRI",
        "outputId": "809c0ed1-5238-4106-b7bd-6f89af982c5f",
        "colab": {
          "base_uri": "https://localhost:8080/",
          "height": 195
        }
      },
      "source": [
        "#volume difference to previous day\n",
        "array = data.reset_index()['Volume'].diff()\n",
        "features['f04'] = array\n",
        "features.head()"
      ],
      "execution_count": 56,
      "outputs": [
        {
          "output_type": "execute_result",
          "data": {
            "text/html": [
              "<div>\n",
              "<style scoped>\n",
              "    .dataframe tbody tr th:only-of-type {\n",
              "        vertical-align: middle;\n",
              "    }\n",
              "\n",
              "    .dataframe tbody tr th {\n",
              "        vertical-align: top;\n",
              "    }\n",
              "\n",
              "    .dataframe thead th {\n",
              "        text-align: right;\n",
              "    }\n",
              "</style>\n",
              "<table border=\"1\" class=\"dataframe\">\n",
              "  <thead>\n",
              "    <tr style=\"text-align: right;\">\n",
              "      <th></th>\n",
              "      <th>f01</th>\n",
              "      <th>f02</th>\n",
              "      <th>f03</th>\n",
              "      <th>f04</th>\n",
              "    </tr>\n",
              "  </thead>\n",
              "  <tbody>\n",
              "    <tr>\n",
              "      <th>0</th>\n",
              "      <td>0.038462</td>\n",
              "      <td>-0.087511</td>\n",
              "      <td>16.606185</td>\n",
              "      <td>NaN</td>\n",
              "    </tr>\n",
              "    <tr>\n",
              "      <th>1</th>\n",
              "      <td>0.002742</td>\n",
              "      <td>0.013902</td>\n",
              "      <td>16.462933</td>\n",
              "      <td>-2174400.0</td>\n",
              "    </tr>\n",
              "    <tr>\n",
              "      <th>2</th>\n",
              "      <td>-0.034884</td>\n",
              "      <td>0.048289</td>\n",
              "      <td>16.603739</td>\n",
              "      <td>2134600.0</td>\n",
              "    </tr>\n",
              "    <tr>\n",
              "      <th>3</th>\n",
              "      <td>-0.005131</td>\n",
              "      <td>-0.035538</td>\n",
              "      <td>16.049024</td>\n",
              "      <td>-6919600.0</td>\n",
              "    </tr>\n",
              "    <tr>\n",
              "      <th>4</th>\n",
              "      <td>0.044643</td>\n",
              "      <td>-0.006072</td>\n",
              "      <td>15.764388</td>\n",
              "      <td>-2311800.0</td>\n",
              "    </tr>\n",
              "  </tbody>\n",
              "</table>\n",
              "</div>"
            ],
            "text/plain": [
              "        f01       f02        f03        f04\n",
              "0  0.038462 -0.087511  16.606185        NaN\n",
              "1  0.002742  0.013902  16.462933 -2174400.0\n",
              "2 -0.034884  0.048289  16.603739  2134600.0\n",
              "3 -0.005131 -0.035538  16.049024 -6919600.0\n",
              "4  0.044643 -0.006072  15.764388 -2311800.0"
            ]
          },
          "metadata": {
            "tags": []
          },
          "execution_count": 56
        }
      ]
    },
    {
      "cell_type": "code",
      "metadata": {
        "id": "TjoQnLdhDb12",
        "outputId": "22539b39-9bd1-46d4-a241-45999d97a393",
        "colab": {
          "base_uri": "https://localhost:8080/",
          "height": 195
        }
      },
      "source": [
        "#log of 5 days moving average of volume\n",
        "ma_5 = lambda x : x.rolling(5).mean()\n",
        "array = data.reset_index()['Volume'].rolling(5,min_periods=1).mean().apply(np.log)\n",
        "features['f05'] = array\n",
        "features.head()"
      ],
      "execution_count": 57,
      "outputs": [
        {
          "output_type": "execute_result",
          "data": {
            "text/html": [
              "<div>\n",
              "<style scoped>\n",
              "    .dataframe tbody tr th:only-of-type {\n",
              "        vertical-align: middle;\n",
              "    }\n",
              "\n",
              "    .dataframe tbody tr th {\n",
              "        vertical-align: top;\n",
              "    }\n",
              "\n",
              "    .dataframe thead th {\n",
              "        text-align: right;\n",
              "    }\n",
              "</style>\n",
              "<table border=\"1\" class=\"dataframe\">\n",
              "  <thead>\n",
              "    <tr style=\"text-align: right;\">\n",
              "      <th></th>\n",
              "      <th>f01</th>\n",
              "      <th>f02</th>\n",
              "      <th>f03</th>\n",
              "      <th>f04</th>\n",
              "      <th>f05</th>\n",
              "    </tr>\n",
              "  </thead>\n",
              "  <tbody>\n",
              "    <tr>\n",
              "      <th>0</th>\n",
              "      <td>0.038462</td>\n",
              "      <td>-0.087511</td>\n",
              "      <td>16.606185</td>\n",
              "      <td>NaN</td>\n",
              "      <td>16.606185</td>\n",
              "    </tr>\n",
              "    <tr>\n",
              "      <th>1</th>\n",
              "      <td>0.002742</td>\n",
              "      <td>0.013902</td>\n",
              "      <td>16.462933</td>\n",
              "      <td>-2174400.0</td>\n",
              "      <td>16.537122</td>\n",
              "    </tr>\n",
              "    <tr>\n",
              "      <th>2</th>\n",
              "      <td>-0.034884</td>\n",
              "      <td>0.048289</td>\n",
              "      <td>16.603739</td>\n",
              "      <td>2134600.0</td>\n",
              "      <td>16.559824</td>\n",
              "    </tr>\n",
              "    <tr>\n",
              "      <th>3</th>\n",
              "      <td>-0.005131</td>\n",
              "      <td>-0.035538</td>\n",
              "      <td>16.049024</td>\n",
              "      <td>-6919600.0</td>\n",
              "      <td>16.454468</td>\n",
              "    </tr>\n",
              "    <tr>\n",
              "      <th>4</th>\n",
              "      <td>0.044643</td>\n",
              "      <td>-0.006072</td>\n",
              "      <td>15.764388</td>\n",
              "      <td>-2311800.0</td>\n",
              "      <td>16.349449</td>\n",
              "    </tr>\n",
              "  </tbody>\n",
              "</table>\n",
              "</div>"
            ],
            "text/plain": [
              "        f01       f02        f03        f04        f05\n",
              "0  0.038462 -0.087511  16.606185        NaN  16.606185\n",
              "1  0.002742  0.013902  16.462933 -2174400.0  16.537122\n",
              "2 -0.034884  0.048289  16.603739  2134600.0  16.559824\n",
              "3 -0.005131 -0.035538  16.049024 -6919600.0  16.454468\n",
              "4  0.044643 -0.006072  15.764388 -2311800.0  16.349449"
            ]
          },
          "metadata": {
            "tags": []
          },
          "execution_count": 57
        }
      ]
    },
    {
      "cell_type": "code",
      "metadata": {
        "id": "GvEgTVvBEdBe",
        "outputId": "0029c77d-4567-48b4-a2c2-2b7f88a1f000",
        "colab": {
          "base_uri": "https://localhost:8080/",
          "height": 195
        }
      },
      "source": [
        "#z_score for closing prices\n",
        "array = (df - df.rolling(200,min_periods=1).mean())/df.rolling(200,min_periods=1).std()\n",
        "features['f06'] = array\n",
        "features.tail()"
      ],
      "execution_count": 58,
      "outputs": [
        {
          "output_type": "execute_result",
          "data": {
            "text/html": [
              "<div>\n",
              "<style scoped>\n",
              "    .dataframe tbody tr th:only-of-type {\n",
              "        vertical-align: middle;\n",
              "    }\n",
              "\n",
              "    .dataframe tbody tr th {\n",
              "        vertical-align: top;\n",
              "    }\n",
              "\n",
              "    .dataframe thead th {\n",
              "        text-align: right;\n",
              "    }\n",
              "</style>\n",
              "<table border=\"1\" class=\"dataframe\">\n",
              "  <thead>\n",
              "    <tr style=\"text-align: right;\">\n",
              "      <th></th>\n",
              "      <th>f01</th>\n",
              "      <th>f02</th>\n",
              "      <th>f03</th>\n",
              "      <th>f04</th>\n",
              "      <th>f05</th>\n",
              "      <th>f06</th>\n",
              "    </tr>\n",
              "  </thead>\n",
              "  <tbody>\n",
              "    <tr>\n",
              "      <th>5448</th>\n",
              "      <td>0.003043</td>\n",
              "      <td>0.054385</td>\n",
              "      <td>15.702050</td>\n",
              "      <td>1008200.0</td>\n",
              "      <td>15.458140</td>\n",
              "      <td>1.107563</td>\n",
              "    </tr>\n",
              "    <tr>\n",
              "      <th>5449</th>\n",
              "      <td>-0.038508</td>\n",
              "      <td>0.051014</td>\n",
              "      <td>15.942122</td>\n",
              "      <td>1789900.0</td>\n",
              "      <td>15.632398</td>\n",
              "      <td>0.773956</td>\n",
              "    </tr>\n",
              "    <tr>\n",
              "      <th>5450</th>\n",
              "      <td>-0.018702</td>\n",
              "      <td>0.004373</td>\n",
              "      <td>15.797532</td>\n",
              "      <td>-1129000.0</td>\n",
              "      <td>15.675539</td>\n",
              "      <td>0.706880</td>\n",
              "    </tr>\n",
              "    <tr>\n",
              "      <th>5451</th>\n",
              "      <td>0.009899</td>\n",
              "      <td>-0.066306</td>\n",
              "      <td>15.399508</td>\n",
              "      <td>-2383000.0</td>\n",
              "      <td>15.693539</td>\n",
              "      <td>0.780917</td>\n",
              "    </tr>\n",
              "    <tr>\n",
              "      <th>5452</th>\n",
              "      <td>0.023070</td>\n",
              "      <td>NaN</td>\n",
              "      <td>15.276727</td>\n",
              "      <td>-563199.0</td>\n",
              "      <td>15.653705</td>\n",
              "      <td>1.117131</td>\n",
              "    </tr>\n",
              "  </tbody>\n",
              "</table>\n",
              "</div>"
            ],
            "text/plain": [
              "           f01       f02        f03        f04        f05       f06\n",
              "5448  0.003043  0.054385  15.702050  1008200.0  15.458140  1.107563\n",
              "5449 -0.038508  0.051014  15.942122  1789900.0  15.632398  0.773956\n",
              "5450 -0.018702  0.004373  15.797532 -1129000.0  15.675539  0.706880\n",
              "5451  0.009899 -0.066306  15.399508 -2383000.0  15.693539  0.780917\n",
              "5452  0.023070       NaN  15.276727  -563199.0  15.653705  1.117131"
            ]
          },
          "metadata": {
            "tags": []
          },
          "execution_count": 58
        }
      ]
    },
    {
      "cell_type": "code",
      "metadata": {
        "id": "Sp_FCvfZIlzd",
        "outputId": "cbbf7495-c9c5-4a0e-aafd-7ccd4afeaf51",
        "colab": {
          "base_uri": "https://localhost:8080/",
          "height": 195
        }
      },
      "source": [
        "#signing\n",
        "array = features['f01'].apply(np.sign)\n",
        "features['f07'] = array\n",
        "features.tail()"
      ],
      "execution_count": 59,
      "outputs": [
        {
          "output_type": "execute_result",
          "data": {
            "text/html": [
              "<div>\n",
              "<style scoped>\n",
              "    .dataframe tbody tr th:only-of-type {\n",
              "        vertical-align: middle;\n",
              "    }\n",
              "\n",
              "    .dataframe tbody tr th {\n",
              "        vertical-align: top;\n",
              "    }\n",
              "\n",
              "    .dataframe thead th {\n",
              "        text-align: right;\n",
              "    }\n",
              "</style>\n",
              "<table border=\"1\" class=\"dataframe\">\n",
              "  <thead>\n",
              "    <tr style=\"text-align: right;\">\n",
              "      <th></th>\n",
              "      <th>f01</th>\n",
              "      <th>f02</th>\n",
              "      <th>f03</th>\n",
              "      <th>f04</th>\n",
              "      <th>f05</th>\n",
              "      <th>f06</th>\n",
              "      <th>f07</th>\n",
              "    </tr>\n",
              "  </thead>\n",
              "  <tbody>\n",
              "    <tr>\n",
              "      <th>5448</th>\n",
              "      <td>0.003043</td>\n",
              "      <td>0.054385</td>\n",
              "      <td>15.702050</td>\n",
              "      <td>1008200.0</td>\n",
              "      <td>15.458140</td>\n",
              "      <td>1.107563</td>\n",
              "      <td>1.0</td>\n",
              "    </tr>\n",
              "    <tr>\n",
              "      <th>5449</th>\n",
              "      <td>-0.038508</td>\n",
              "      <td>0.051014</td>\n",
              "      <td>15.942122</td>\n",
              "      <td>1789900.0</td>\n",
              "      <td>15.632398</td>\n",
              "      <td>0.773956</td>\n",
              "      <td>-1.0</td>\n",
              "    </tr>\n",
              "    <tr>\n",
              "      <th>5450</th>\n",
              "      <td>-0.018702</td>\n",
              "      <td>0.004373</td>\n",
              "      <td>15.797532</td>\n",
              "      <td>-1129000.0</td>\n",
              "      <td>15.675539</td>\n",
              "      <td>0.706880</td>\n",
              "      <td>-1.0</td>\n",
              "    </tr>\n",
              "    <tr>\n",
              "      <th>5451</th>\n",
              "      <td>0.009899</td>\n",
              "      <td>-0.066306</td>\n",
              "      <td>15.399508</td>\n",
              "      <td>-2383000.0</td>\n",
              "      <td>15.693539</td>\n",
              "      <td>0.780917</td>\n",
              "      <td>1.0</td>\n",
              "    </tr>\n",
              "    <tr>\n",
              "      <th>5452</th>\n",
              "      <td>0.023070</td>\n",
              "      <td>NaN</td>\n",
              "      <td>15.276727</td>\n",
              "      <td>-563199.0</td>\n",
              "      <td>15.653705</td>\n",
              "      <td>1.117131</td>\n",
              "      <td>1.0</td>\n",
              "    </tr>\n",
              "  </tbody>\n",
              "</table>\n",
              "</div>"
            ],
            "text/plain": [
              "           f01       f02        f03        f04        f05       f06  f07\n",
              "5448  0.003043  0.054385  15.702050  1008200.0  15.458140  1.107563  1.0\n",
              "5449 -0.038508  0.051014  15.942122  1789900.0  15.632398  0.773956 -1.0\n",
              "5450 -0.018702  0.004373  15.797532 -1129000.0  15.675539  0.706880 -1.0\n",
              "5451  0.009899 -0.066306  15.399508 -2383000.0  15.693539  0.780917  1.0\n",
              "5452  0.023070       NaN  15.276727  -563199.0  15.653705  1.117131  1.0"
            ]
          },
          "metadata": {
            "tags": []
          },
          "execution_count": 59
        }
      ]
    },
    {
      "cell_type": "code",
      "metadata": {
        "id": "zF49MXzr1oB7",
        "outputId": "94ca89eb-279e-4f3c-9dd7-debb334beb86",
        "colab": {
          "base_uri": "https://localhost:8080/",
          "height": 195
        }
      },
      "source": [
        "#plus-minus how many days the value has increased or decreased\n",
        "array = features['f07'].rolling(200,min_periods=1).sum()\n",
        "features['f08'] = array\n",
        "features.head()"
      ],
      "execution_count": 60,
      "outputs": [
        {
          "output_type": "execute_result",
          "data": {
            "text/html": [
              "<div>\n",
              "<style scoped>\n",
              "    .dataframe tbody tr th:only-of-type {\n",
              "        vertical-align: middle;\n",
              "    }\n",
              "\n",
              "    .dataframe tbody tr th {\n",
              "        vertical-align: top;\n",
              "    }\n",
              "\n",
              "    .dataframe thead th {\n",
              "        text-align: right;\n",
              "    }\n",
              "</style>\n",
              "<table border=\"1\" class=\"dataframe\">\n",
              "  <thead>\n",
              "    <tr style=\"text-align: right;\">\n",
              "      <th></th>\n",
              "      <th>f01</th>\n",
              "      <th>f02</th>\n",
              "      <th>f03</th>\n",
              "      <th>f04</th>\n",
              "      <th>f05</th>\n",
              "      <th>f06</th>\n",
              "      <th>f07</th>\n",
              "      <th>f08</th>\n",
              "    </tr>\n",
              "  </thead>\n",
              "  <tbody>\n",
              "    <tr>\n",
              "      <th>0</th>\n",
              "      <td>0.038462</td>\n",
              "      <td>-0.087511</td>\n",
              "      <td>16.606185</td>\n",
              "      <td>NaN</td>\n",
              "      <td>16.606185</td>\n",
              "      <td>NaN</td>\n",
              "      <td>1.0</td>\n",
              "      <td>1.0</td>\n",
              "    </tr>\n",
              "    <tr>\n",
              "      <th>1</th>\n",
              "      <td>0.002742</td>\n",
              "      <td>0.013902</td>\n",
              "      <td>16.462933</td>\n",
              "      <td>-2174400.0</td>\n",
              "      <td>16.537122</td>\n",
              "      <td>0.707107</td>\n",
              "      <td>1.0</td>\n",
              "      <td>2.0</td>\n",
              "    </tr>\n",
              "    <tr>\n",
              "      <th>2</th>\n",
              "      <td>-0.034884</td>\n",
              "      <td>0.048289</td>\n",
              "      <td>16.603739</td>\n",
              "      <td>2134600.0</td>\n",
              "      <td>16.559824</td>\n",
              "      <td>0.243662</td>\n",
              "      <td>-1.0</td>\n",
              "      <td>1.0</td>\n",
              "    </tr>\n",
              "    <tr>\n",
              "      <th>3</th>\n",
              "      <td>-0.005131</td>\n",
              "      <td>-0.035538</td>\n",
              "      <td>16.049024</td>\n",
              "      <td>-6919600.0</td>\n",
              "      <td>16.454468</td>\n",
              "      <td>-0.165545</td>\n",
              "      <td>-1.0</td>\n",
              "      <td>0.0</td>\n",
              "    </tr>\n",
              "    <tr>\n",
              "      <th>4</th>\n",
              "      <td>0.044643</td>\n",
              "      <td>-0.006072</td>\n",
              "      <td>15.764388</td>\n",
              "      <td>-2311800.0</td>\n",
              "      <td>16.349449</td>\n",
              "      <td>1.178915</td>\n",
              "      <td>1.0</td>\n",
              "      <td>1.0</td>\n",
              "    </tr>\n",
              "  </tbody>\n",
              "</table>\n",
              "</div>"
            ],
            "text/plain": [
              "        f01       f02        f03        f04        f05       f06  f07  f08\n",
              "0  0.038462 -0.087511  16.606185        NaN  16.606185       NaN  1.0  1.0\n",
              "1  0.002742  0.013902  16.462933 -2174400.0  16.537122  0.707107  1.0  2.0\n",
              "2 -0.034884  0.048289  16.603739  2134600.0  16.559824  0.243662 -1.0  1.0\n",
              "3 -0.005131 -0.035538  16.049024 -6919600.0  16.454468 -0.165545 -1.0  0.0\n",
              "4  0.044643 -0.006072  15.764388 -2311800.0  16.349449  1.178915  1.0  1.0"
            ]
          },
          "metadata": {
            "tags": []
          },
          "execution_count": 60
        }
      ]
    },
    {
      "cell_type": "markdown",
      "metadata": {
        "id": "L7hp1FsW_JEG"
      },
      "source": [
        "#**Creating TA technical indicator features**"
      ]
    },
    {
      "cell_type": "code",
      "metadata": {
        "id": "ouhq3F0Y_Tke",
        "outputId": "1c08ccc8-a2b1-4925-9f42-f14b1fa3210b",
        "colab": {
          "base_uri": "https://localhost:8080/"
        }
      },
      "source": [
        "pip install --upgrade ta"
      ],
      "execution_count": 61,
      "outputs": [
        {
          "output_type": "stream",
          "text": [
            "Requirement already up-to-date: ta in /usr/local/lib/python3.6/dist-packages (0.5.25)\n",
            "Requirement already satisfied, skipping upgrade: numpy in /usr/local/lib/python3.6/dist-packages (from ta) (1.18.5)\n",
            "Requirement already satisfied, skipping upgrade: pandas in /usr/local/lib/python3.6/dist-packages (from ta) (1.1.4)\n",
            "Requirement already satisfied, skipping upgrade: python-dateutil>=2.7.3 in /usr/local/lib/python3.6/dist-packages (from pandas->ta) (2.8.1)\n",
            "Requirement already satisfied, skipping upgrade: pytz>=2017.2 in /usr/local/lib/python3.6/dist-packages (from pandas->ta) (2018.9)\n",
            "Requirement already satisfied, skipping upgrade: six>=1.5 in /usr/local/lib/python3.6/dist-packages (from python-dateutil>=2.7.3->pandas->ta) (1.15.0)\n"
          ],
          "name": "stdout"
        }
      ]
    },
    {
      "cell_type": "code",
      "metadata": {
        "id": "mHPlFkQ3_v9O"
      },
      "source": [
        "import ta"
      ],
      "execution_count": 62,
      "outputs": []
    },
    {
      "cell_type": "code",
      "metadata": {
        "id": "s-L7odis_7T0",
        "outputId": "92e23f95-8b1a-4808-a43f-870ec870f55e",
        "colab": {
          "base_uri": "https://localhost:8080/"
        }
      },
      "source": [
        "ta_data = data\n",
        "ta_data.shape"
      ],
      "execution_count": 63,
      "outputs": [
        {
          "output_type": "execute_result",
          "data": {
            "text/plain": [
              "(5453, 6)"
            ]
          },
          "metadata": {
            "tags": []
          },
          "execution_count": 63
        }
      ]
    },
    {
      "cell_type": "code",
      "metadata": {
        "id": "yQwnQ12PArTZ"
      },
      "source": [
        "#making sure there are no missing values\n",
        "ta_data = ta.utils.dropna(ta_data)"
      ],
      "execution_count": 64,
      "outputs": []
    },
    {
      "cell_type": "code",
      "metadata": {
        "id": "OQFZSK4BAxaD",
        "outputId": "798c966c-a4de-4ab0-c64b-bebb5d5192be",
        "colab": {
          "base_uri": "https://localhost:8080/"
        }
      },
      "source": [
        "ta_data.info()"
      ],
      "execution_count": 65,
      "outputs": [
        {
          "output_type": "stream",
          "text": [
            "<class 'pandas.core.frame.DataFrame'>\n",
            "DatetimeIndex: 5453 entries, 1999-03-09 to 2020-11-04\n",
            "Data columns (total 6 columns):\n",
            " #   Column     Non-Null Count  Dtype  \n",
            "---  ------     --------------  -----  \n",
            " 0   High       5453 non-null   float64\n",
            " 1   Low        5453 non-null   float64\n",
            " 2   Open       5453 non-null   float64\n",
            " 3   Close      5453 non-null   float64\n",
            " 4   Volume     5453 non-null   float64\n",
            " 5   Adj Close  5453 non-null   float64\n",
            "dtypes: float64(6)\n",
            "memory usage: 298.2 KB\n"
          ],
          "name": "stdout"
        }
      ]
    },
    {
      "cell_type": "code",
      "metadata": {
        "id": "w381L1U8Ayx_",
        "outputId": "2711523c-7f5c-48f6-b962-5be4b1ba40af",
        "colab": {
          "base_uri": "https://localhost:8080/",
          "height": 0
        }
      },
      "source": [
        "ta_data = ta.add_all_ta_features(ta_data,'Open','High','Low','Close','Volume',fillna=True)\n",
        "ta_data.head()"
      ],
      "execution_count": 66,
      "outputs": [
        {
          "output_type": "stream",
          "text": [
            "/usr/local/lib/python3.6/dist-packages/ta/trend.py:608: RuntimeWarning: invalid value encountered in double_scalars\n",
            "  dip[i] = 100 * (self._dip[i]/self._trs[i])\n",
            "/usr/local/lib/python3.6/dist-packages/ta/trend.py:612: RuntimeWarning: invalid value encountered in double_scalars\n",
            "  din[i] = 100 * (self._din[i]/self._trs[i])\n"
          ],
          "name": "stderr"
        },
        {
          "output_type": "execute_result",
          "data": {
            "text/html": [
              "<div>\n",
              "<style scoped>\n",
              "    .dataframe tbody tr th:only-of-type {\n",
              "        vertical-align: middle;\n",
              "    }\n",
              "\n",
              "    .dataframe tbody tr th {\n",
              "        vertical-align: top;\n",
              "    }\n",
              "\n",
              "    .dataframe thead th {\n",
              "        text-align: right;\n",
              "    }\n",
              "</style>\n",
              "<table border=\"1\" class=\"dataframe\">\n",
              "  <thead>\n",
              "    <tr style=\"text-align: right;\">\n",
              "      <th></th>\n",
              "      <th>High</th>\n",
              "      <th>Low</th>\n",
              "      <th>Open</th>\n",
              "      <th>Close</th>\n",
              "      <th>Volume</th>\n",
              "      <th>Adj Close</th>\n",
              "      <th>volume_adi</th>\n",
              "      <th>volume_obv</th>\n",
              "      <th>volume_cmf</th>\n",
              "      <th>volume_fi</th>\n",
              "      <th>momentum_mfi</th>\n",
              "      <th>volume_em</th>\n",
              "      <th>volume_sma_em</th>\n",
              "      <th>volume_vpt</th>\n",
              "      <th>volume_nvi</th>\n",
              "      <th>volume_vwap</th>\n",
              "      <th>volatility_atr</th>\n",
              "      <th>volatility_bbm</th>\n",
              "      <th>volatility_bbh</th>\n",
              "      <th>volatility_bbl</th>\n",
              "      <th>volatility_bbw</th>\n",
              "      <th>volatility_bbp</th>\n",
              "      <th>volatility_bbhi</th>\n",
              "      <th>volatility_bbli</th>\n",
              "      <th>volatility_kcc</th>\n",
              "      <th>volatility_kch</th>\n",
              "      <th>volatility_kcl</th>\n",
              "      <th>volatility_kcw</th>\n",
              "      <th>volatility_kcp</th>\n",
              "      <th>volatility_kchi</th>\n",
              "      <th>volatility_kcli</th>\n",
              "      <th>volatility_dcl</th>\n",
              "      <th>volatility_dch</th>\n",
              "      <th>trend_macd</th>\n",
              "      <th>trend_macd_signal</th>\n",
              "      <th>trend_macd_diff</th>\n",
              "      <th>trend_sma_fast</th>\n",
              "      <th>trend_sma_slow</th>\n",
              "      <th>trend_ema_fast</th>\n",
              "      <th>trend_ema_slow</th>\n",
              "      <th>trend_adx</th>\n",
              "      <th>trend_adx_pos</th>\n",
              "      <th>trend_adx_neg</th>\n",
              "      <th>trend_vortex_ind_pos</th>\n",
              "      <th>trend_vortex_ind_neg</th>\n",
              "      <th>trend_vortex_ind_diff</th>\n",
              "      <th>trend_trix</th>\n",
              "      <th>trend_mass_index</th>\n",
              "      <th>trend_cci</th>\n",
              "      <th>trend_dpo</th>\n",
              "      <th>trend_kst</th>\n",
              "      <th>trend_kst_sig</th>\n",
              "      <th>trend_kst_diff</th>\n",
              "      <th>trend_ichimoku_conv</th>\n",
              "      <th>trend_ichimoku_base</th>\n",
              "      <th>trend_ichimoku_a</th>\n",
              "      <th>trend_ichimoku_b</th>\n",
              "      <th>trend_visual_ichimoku_a</th>\n",
              "      <th>trend_visual_ichimoku_b</th>\n",
              "      <th>trend_aroon_up</th>\n",
              "      <th>trend_aroon_down</th>\n",
              "      <th>trend_aroon_ind</th>\n",
              "      <th>trend_psar_up</th>\n",
              "      <th>trend_psar_down</th>\n",
              "      <th>trend_psar_up_indicator</th>\n",
              "      <th>trend_psar_down_indicator</th>\n",
              "      <th>momentum_rsi</th>\n",
              "      <th>momentum_tsi</th>\n",
              "      <th>momentum_uo</th>\n",
              "      <th>momentum_stoch</th>\n",
              "      <th>momentum_stoch_signal</th>\n",
              "      <th>momentum_wr</th>\n",
              "      <th>momentum_ao</th>\n",
              "      <th>momentum_kama</th>\n",
              "      <th>momentum_roc</th>\n",
              "      <th>others_dr</th>\n",
              "      <th>others_dlr</th>\n",
              "      <th>others_cr</th>\n",
              "    </tr>\n",
              "    <tr>\n",
              "      <th>Date</th>\n",
              "      <th></th>\n",
              "      <th></th>\n",
              "      <th></th>\n",
              "      <th></th>\n",
              "      <th></th>\n",
              "      <th></th>\n",
              "      <th></th>\n",
              "      <th></th>\n",
              "      <th></th>\n",
              "      <th></th>\n",
              "      <th></th>\n",
              "      <th></th>\n",
              "      <th></th>\n",
              "      <th></th>\n",
              "      <th></th>\n",
              "      <th></th>\n",
              "      <th></th>\n",
              "      <th></th>\n",
              "      <th></th>\n",
              "      <th></th>\n",
              "      <th></th>\n",
              "      <th></th>\n",
              "      <th></th>\n",
              "      <th></th>\n",
              "      <th></th>\n",
              "      <th></th>\n",
              "      <th></th>\n",
              "      <th></th>\n",
              "      <th></th>\n",
              "      <th></th>\n",
              "      <th></th>\n",
              "      <th></th>\n",
              "      <th></th>\n",
              "      <th></th>\n",
              "      <th></th>\n",
              "      <th></th>\n",
              "      <th></th>\n",
              "      <th></th>\n",
              "      <th></th>\n",
              "      <th></th>\n",
              "      <th></th>\n",
              "      <th></th>\n",
              "      <th></th>\n",
              "      <th></th>\n",
              "      <th></th>\n",
              "      <th></th>\n",
              "      <th></th>\n",
              "      <th></th>\n",
              "      <th></th>\n",
              "      <th></th>\n",
              "      <th></th>\n",
              "      <th></th>\n",
              "      <th></th>\n",
              "      <th></th>\n",
              "      <th></th>\n",
              "      <th></th>\n",
              "      <th></th>\n",
              "      <th></th>\n",
              "      <th></th>\n",
              "      <th></th>\n",
              "      <th></th>\n",
              "      <th></th>\n",
              "      <th></th>\n",
              "      <th></th>\n",
              "      <th></th>\n",
              "      <th></th>\n",
              "      <th></th>\n",
              "      <th></th>\n",
              "      <th></th>\n",
              "      <th></th>\n",
              "      <th></th>\n",
              "      <th></th>\n",
              "      <th></th>\n",
              "      <th></th>\n",
              "      <th></th>\n",
              "      <th></th>\n",
              "      <th></th>\n",
              "      <th></th>\n",
              "    </tr>\n",
              "  </thead>\n",
              "  <tbody>\n",
              "    <tr>\n",
              "      <th>1999-03-09</th>\n",
              "      <td>66.62500</td>\n",
              "      <td>61.71875</td>\n",
              "      <td>62.5625</td>\n",
              "      <td>64.96875</td>\n",
              "      <td>16292000.0</td>\n",
              "      <td>64.96875</td>\n",
              "      <td>5.292306e+06</td>\n",
              "      <td>16292000.0</td>\n",
              "      <td>0.324841</td>\n",
              "      <td>0.000000e+00</td>\n",
              "      <td>50.000000</td>\n",
              "      <td>0.000000</td>\n",
              "      <td>0.000000</td>\n",
              "      <td>-1.384132e+07</td>\n",
              "      <td>1000.000000</td>\n",
              "      <td>64.437500</td>\n",
              "      <td>0.0</td>\n",
              "      <td>64.968750</td>\n",
              "      <td>64.968750</td>\n",
              "      <td>64.968750</td>\n",
              "      <td>0.000000</td>\n",
              "      <td>0.000000</td>\n",
              "      <td>0.0</td>\n",
              "      <td>0.0</td>\n",
              "      <td>64.437500</td>\n",
              "      <td>69.343750</td>\n",
              "      <td>59.531250</td>\n",
              "      <td>15.227934</td>\n",
              "      <td>0.554140</td>\n",
              "      <td>0.0</td>\n",
              "      <td>0.0</td>\n",
              "      <td>7.551708</td>\n",
              "      <td>0.662420</td>\n",
              "      <td>0.000000</td>\n",
              "      <td>0.000000</td>\n",
              "      <td>0.000000</td>\n",
              "      <td>64.968750</td>\n",
              "      <td>64.968750</td>\n",
              "      <td>64.968750</td>\n",
              "      <td>64.968750</td>\n",
              "      <td>0.0</td>\n",
              "      <td>0.0</td>\n",
              "      <td>0.0</td>\n",
              "      <td>0.000000</td>\n",
              "      <td>0.000000</td>\n",
              "      <td>0.000000</td>\n",
              "      <td>-84.727820</td>\n",
              "      <td>1.000000</td>\n",
              "      <td>0.000000</td>\n",
              "      <td>372.483096</td>\n",
              "      <td>-851.483653</td>\n",
              "      <td>-851.483653</td>\n",
              "      <td>0.000000</td>\n",
              "      <td>64.171875</td>\n",
              "      <td>64.171875</td>\n",
              "      <td>64.171875</td>\n",
              "      <td>64.171875</td>\n",
              "      <td>431.91354</td>\n",
              "      <td>421.917072</td>\n",
              "      <td>4.0</td>\n",
              "      <td>4.0</td>\n",
              "      <td>0.0</td>\n",
              "      <td>-1.0</td>\n",
              "      <td>-1.0000</td>\n",
              "      <td>0.0</td>\n",
              "      <td>0.0</td>\n",
              "      <td>100.000000</td>\n",
              "      <td>0.000000</td>\n",
              "      <td>0.000000</td>\n",
              "      <td>66.242038</td>\n",
              "      <td>66.242038</td>\n",
              "      <td>-33.757962</td>\n",
              "      <td>0.0</td>\n",
              "      <td>64.968750</td>\n",
              "      <td>0.0</td>\n",
              "      <td>-85.148365</td>\n",
              "      <td>0.000000</td>\n",
              "      <td>0.000000</td>\n",
              "    </tr>\n",
              "    <tr>\n",
              "      <th>1999-03-10</th>\n",
              "      <td>69.46875</td>\n",
              "      <td>67.00000</td>\n",
              "      <td>68.3750</td>\n",
              "      <td>68.56250</td>\n",
              "      <td>14117600.0</td>\n",
              "      <td>68.56250</td>\n",
              "      <td>9.045085e+06</td>\n",
              "      <td>30409600.0</td>\n",
              "      <td>0.297442</td>\n",
              "      <td>5.073512e+07</td>\n",
              "      <td>100.000000</td>\n",
              "      <td>71.041090</td>\n",
              "      <td>71.041090</td>\n",
              "      <td>-1.309146e+07</td>\n",
              "      <td>1055.315055</td>\n",
              "      <td>66.250969</td>\n",
              "      <td>0.0</td>\n",
              "      <td>66.765625</td>\n",
              "      <td>70.359375</td>\n",
              "      <td>63.171875</td>\n",
              "      <td>10.765270</td>\n",
              "      <td>0.750000</td>\n",
              "      <td>0.0</td>\n",
              "      <td>0.0</td>\n",
              "      <td>66.390625</td>\n",
              "      <td>70.078125</td>\n",
              "      <td>62.703125</td>\n",
              "      <td>11.108496</td>\n",
              "      <td>0.794492</td>\n",
              "      <td>0.0</td>\n",
              "      <td>0.0</td>\n",
              "      <td>11.607770</td>\n",
              "      <td>0.883065</td>\n",
              "      <td>0.286681</td>\n",
              "      <td>0.057336</td>\n",
              "      <td>0.229345</td>\n",
              "      <td>66.765625</td>\n",
              "      <td>66.765625</td>\n",
              "      <td>65.521635</td>\n",
              "      <td>65.234954</td>\n",
              "      <td>0.0</td>\n",
              "      <td>0.0</td>\n",
              "      <td>0.0</td>\n",
              "      <td>0.020382</td>\n",
              "      <td>0.000986</td>\n",
              "      <td>0.019396</td>\n",
              "      <td>0.010804</td>\n",
              "      <td>1.918898</td>\n",
              "      <td>66.666667</td>\n",
              "      <td>370.686221</td>\n",
              "      <td>-847.376058</td>\n",
              "      <td>-849.429856</td>\n",
              "      <td>2.053797</td>\n",
              "      <td>65.593750</td>\n",
              "      <td>65.593750</td>\n",
              "      <td>65.593750</td>\n",
              "      <td>65.593750</td>\n",
              "      <td>431.91354</td>\n",
              "      <td>421.917072</td>\n",
              "      <td>8.0</td>\n",
              "      <td>4.0</td>\n",
              "      <td>4.0</td>\n",
              "      <td>-1.0</td>\n",
              "      <td>-1.0000</td>\n",
              "      <td>0.0</td>\n",
              "      <td>0.0</td>\n",
              "      <td>100.000000</td>\n",
              "      <td>100.000000</td>\n",
              "      <td>38.205980</td>\n",
              "      <td>88.306452</td>\n",
              "      <td>77.274245</td>\n",
              "      <td>-11.693548</td>\n",
              "      <td>0.0</td>\n",
              "      <td>66.533679</td>\n",
              "      <td>0.0</td>\n",
              "      <td>5.531506</td>\n",
              "      <td>5.383935</td>\n",
              "      <td>5.531506</td>\n",
              "    </tr>\n",
              "    <tr>\n",
              "      <th>1999-03-11</th>\n",
              "      <td>71.37500</td>\n",
              "      <td>65.50000</td>\n",
              "      <td>69.8750</td>\n",
              "      <td>67.43750</td>\n",
              "      <td>16252200.0</td>\n",
              "      <td>67.43750</td>\n",
              "      <td>3.512422e+06</td>\n",
              "      <td>14157400.0</td>\n",
              "      <td>0.075274</td>\n",
              "      <td>4.087529e+07</td>\n",
              "      <td>46.573024</td>\n",
              "      <td>7.342756</td>\n",
              "      <td>39.191923</td>\n",
              "      <td>5.142434e+05</td>\n",
              "      <td>1055.315055</td>\n",
              "      <td>66.896434</td>\n",
              "      <td>0.0</td>\n",
              "      <td>66.989583</td>\n",
              "      <td>69.991464</td>\n",
              "      <td>63.987703</td>\n",
              "      <td>8.962230</td>\n",
              "      <td>0.574606</td>\n",
              "      <td>0.0</td>\n",
              "      <td>0.0</td>\n",
              "      <td>66.961806</td>\n",
              "      <td>71.378472</td>\n",
              "      <td>62.545139</td>\n",
              "      <td>13.191600</td>\n",
              "      <td>0.553852</td>\n",
              "      <td>0.0</td>\n",
              "      <td>0.0</td>\n",
              "      <td>14.414555</td>\n",
              "      <td>0.592233</td>\n",
              "      <td>0.418278</td>\n",
              "      <td>0.129525</td>\n",
              "      <td>0.288753</td>\n",
              "      <td>66.989583</td>\n",
              "      <td>66.989583</td>\n",
              "      <td>65.816383</td>\n",
              "      <td>65.398105</td>\n",
              "      <td>0.0</td>\n",
              "      <td>0.0</td>\n",
              "      <td>0.0</td>\n",
              "      <td>0.031403</td>\n",
              "      <td>0.011250</td>\n",
              "      <td>0.020153</td>\n",
              "      <td>0.024975</td>\n",
              "      <td>2.902402</td>\n",
              "      <td>45.254470</td>\n",
              "      <td>370.462263</td>\n",
              "      <td>-846.864097</td>\n",
              "      <td>-848.574603</td>\n",
              "      <td>1.710506</td>\n",
              "      <td>66.546875</td>\n",
              "      <td>66.546875</td>\n",
              "      <td>66.546875</td>\n",
              "      <td>66.546875</td>\n",
              "      <td>431.91354</td>\n",
              "      <td>421.917072</td>\n",
              "      <td>8.0</td>\n",
              "      <td>4.0</td>\n",
              "      <td>4.0</td>\n",
              "      <td>-1.0</td>\n",
              "      <td>66.6250</td>\n",
              "      <td>0.0</td>\n",
              "      <td>1.0</td>\n",
              "      <td>74.787394</td>\n",
              "      <td>99.306759</td>\n",
              "      <td>36.196319</td>\n",
              "      <td>59.223301</td>\n",
              "      <td>71.257264</td>\n",
              "      <td>-40.776699</td>\n",
              "      <td>0.0</td>\n",
              "      <td>66.927857</td>\n",
              "      <td>0.0</td>\n",
              "      <td>-1.640839</td>\n",
              "      <td>-1.654450</td>\n",
              "      <td>3.799904</td>\n",
              "    </tr>\n",
              "    <tr>\n",
              "      <th>1999-03-12</th>\n",
              "      <td>67.68750</td>\n",
              "      <td>64.31250</td>\n",
              "      <td>67.0000</td>\n",
              "      <td>66.65625</td>\n",
              "      <td>9332600.0</td>\n",
              "      <td>66.65625</td>\n",
              "      <td>7.141766e+06</td>\n",
              "      <td>4824800.0</td>\n",
              "      <td>0.127544</td>\n",
              "      <td>3.399438e+07</td>\n",
              "      <td>35.872215</td>\n",
              "      <td>-88.148667</td>\n",
              "      <td>-3.254940</td>\n",
              "      <td>-3.747887e+05</td>\n",
              "      <td>1043.089441</td>\n",
              "      <td>66.783484</td>\n",
              "      <td>0.0</td>\n",
              "      <td>66.906250</td>\n",
              "      <td>69.521933</td>\n",
              "      <td>64.290567</td>\n",
              "      <td>7.818949</td>\n",
              "      <td>0.452211</td>\n",
              "      <td>0.0</td>\n",
              "      <td>0.0</td>\n",
              "      <td>66.776042</td>\n",
              "      <td>70.932292</td>\n",
              "      <td>62.619792</td>\n",
              "      <td>12.448327</td>\n",
              "      <td>0.485589</td>\n",
              "      <td>0.0</td>\n",
              "      <td>0.0</td>\n",
              "      <td>14.432508</td>\n",
              "      <td>0.511327</td>\n",
              "      <td>0.454292</td>\n",
              "      <td>0.194478</td>\n",
              "      <td>0.259814</td>\n",
              "      <td>66.906250</td>\n",
              "      <td>66.906250</td>\n",
              "      <td>65.945593</td>\n",
              "      <td>65.491301</td>\n",
              "      <td>0.0</td>\n",
              "      <td>0.0</td>\n",
              "      <td>0.0</td>\n",
              "      <td>0.036747</td>\n",
              "      <td>0.029286</td>\n",
              "      <td>0.007462</td>\n",
              "      <td>0.038389</td>\n",
              "      <td>3.843755</td>\n",
              "      <td>-25.659472</td>\n",
              "      <td>370.545596</td>\n",
              "      <td>-847.054594</td>\n",
              "      <td>-848.194601</td>\n",
              "      <td>1.140006</td>\n",
              "      <td>66.546875</td>\n",
              "      <td>66.546875</td>\n",
              "      <td>66.546875</td>\n",
              "      <td>66.546875</td>\n",
              "      <td>431.91354</td>\n",
              "      <td>421.917072</td>\n",
              "      <td>8.0</td>\n",
              "      <td>4.0</td>\n",
              "      <td>4.0</td>\n",
              "      <td>65.5</td>\n",
              "      <td>66.6250</td>\n",
              "      <td>1.0</td>\n",
              "      <td>0.0</td>\n",
              "      <td>62.922913</td>\n",
              "      <td>98.259043</td>\n",
              "      <td>42.211055</td>\n",
              "      <td>51.132686</td>\n",
              "      <td>66.220813</td>\n",
              "      <td>-48.867314</td>\n",
              "      <td>0.0</td>\n",
              "      <td>66.803943</td>\n",
              "      <td>0.0</td>\n",
              "      <td>-1.158480</td>\n",
              "      <td>-1.165243</td>\n",
              "      <td>2.597403</td>\n",
              "    </tr>\n",
              "    <tr>\n",
              "      <th>1999-03-15</th>\n",
              "      <td>69.50000</td>\n",
              "      <td>65.50000</td>\n",
              "      <td>66.5000</td>\n",
              "      <td>69.46875</td>\n",
              "      <td>7020800.0</td>\n",
              "      <td>69.46875</td>\n",
              "      <td>1.405287e+07</td>\n",
              "      <td>11845600.0</td>\n",
              "      <td>0.223008</td>\n",
              "      <td>3.195889e+07</td>\n",
              "      <td>45.557812</td>\n",
              "      <td>85.460346</td>\n",
              "      <td>18.923881</td>\n",
              "      <td>1.881200e+05</td>\n",
              "      <td>1087.101653</td>\n",
              "      <td>66.936430</td>\n",
              "      <td>0.0</td>\n",
              "      <td>67.418750</td>\n",
              "      <td>70.529367</td>\n",
              "      <td>64.308133</td>\n",
              "      <td>9.227750</td>\n",
              "      <td>0.829517</td>\n",
              "      <td>0.0</td>\n",
              "      <td>0.0</td>\n",
              "      <td>67.052083</td>\n",
              "      <td>71.177083</td>\n",
              "      <td>62.927083</td>\n",
              "      <td>12.303868</td>\n",
              "      <td>0.792929</td>\n",
              "      <td>0.0</td>\n",
              "      <td>0.0</td>\n",
              "      <td>14.322796</td>\n",
              "      <td>0.802589</td>\n",
              "      <td>0.701690</td>\n",
              "      <td>0.295921</td>\n",
              "      <td>0.405770</td>\n",
              "      <td>67.418750</td>\n",
              "      <td>67.418750</td>\n",
              "      <td>66.487618</td>\n",
              "      <td>65.785927</td>\n",
              "      <td>0.0</td>\n",
              "      <td>0.0</td>\n",
              "      <td>0.0</td>\n",
              "      <td>0.049557</td>\n",
              "      <td>0.034547</td>\n",
              "      <td>0.015010</td>\n",
              "      <td>0.059086</td>\n",
              "      <td>4.780846</td>\n",
              "      <td>53.373615</td>\n",
              "      <td>370.033096</td>\n",
              "      <td>-845.883037</td>\n",
              "      <td>-847.732288</td>\n",
              "      <td>1.849251</td>\n",
              "      <td>66.546875</td>\n",
              "      <td>66.546875</td>\n",
              "      <td>66.546875</td>\n",
              "      <td>66.546875</td>\n",
              "      <td>431.91354</td>\n",
              "      <td>421.917072</td>\n",
              "      <td>20.0</td>\n",
              "      <td>4.0</td>\n",
              "      <td>16.0</td>\n",
              "      <td>65.5</td>\n",
              "      <td>67.6875</td>\n",
              "      <td>0.0</td>\n",
              "      <td>1.0</td>\n",
              "      <td>77.042704</td>\n",
              "      <td>97.421451</td>\n",
              "      <td>52.275862</td>\n",
              "      <td>80.258900</td>\n",
              "      <td>63.538296</td>\n",
              "      <td>-19.741100</td>\n",
              "      <td>0.0</td>\n",
              "      <td>67.933105</td>\n",
              "      <td>0.0</td>\n",
              "      <td>4.219409</td>\n",
              "      <td>4.132820</td>\n",
              "      <td>6.926407</td>\n",
              "    </tr>\n",
              "  </tbody>\n",
              "</table>\n",
              "</div>"
            ],
            "text/plain": [
              "                High       Low     Open  ...  others_dr  others_dlr  others_cr\n",
              "Date                                     ...                                  \n",
              "1999-03-09  66.62500  61.71875  62.5625  ... -85.148365    0.000000   0.000000\n",
              "1999-03-10  69.46875  67.00000  68.3750  ...   5.531506    5.383935   5.531506\n",
              "1999-03-11  71.37500  65.50000  69.8750  ...  -1.640839   -1.654450   3.799904\n",
              "1999-03-12  67.68750  64.31250  67.0000  ...  -1.158480   -1.165243   2.597403\n",
              "1999-03-15  69.50000  65.50000  66.5000  ...   4.219409    4.132820   6.926407\n",
              "\n",
              "[5 rows x 78 columns]"
            ]
          },
          "metadata": {
            "tags": []
          },
          "execution_count": 66
        }
      ]
    },
    {
      "cell_type": "code",
      "metadata": {
        "id": "E1Jxp7MdBjiS",
        "outputId": "83ab32dd-7fd8-44a5-ef26-08e45536bdb5",
        "colab": {
          "base_uri": "https://localhost:8080/"
        }
      },
      "source": [
        "ta_data.shape"
      ],
      "execution_count": 67,
      "outputs": [
        {
          "output_type": "execute_result",
          "data": {
            "text/plain": [
              "(5453, 78)"
            ]
          },
          "metadata": {
            "tags": []
          },
          "execution_count": 67
        }
      ]
    },
    {
      "cell_type": "code",
      "metadata": {
        "id": "Uylt8KMuZwlT",
        "outputId": "0d0956d1-8ffd-4222-f138-ae00b6c82020",
        "colab": {
          "base_uri": "https://localhost:8080/",
          "height": 0
        }
      },
      "source": [
        "#selecting a few features\n",
        "selected_features = [\n",
        "                     'volume_adi',\n",
        "                     'volume_fi',\n",
        "                     'volatility_bbm',\n",
        "                     'trend_macd',\n",
        "                     'trend_vortex_ind_diff',\n",
        "                     'momentum_rsi',\n",
        "                     'Close',\n",
        "                     'trend_cci',\n",
        "                     'volatility_kcw',\n",
        "                     'trend_dpo'\n",
        "                     ]\n",
        "for i in selected_features:\n",
        "  array = ta_data.reset_index()[i]\n",
        "  features[i] = array\n",
        "features.head()"
      ],
      "execution_count": 68,
      "outputs": [
        {
          "output_type": "execute_result",
          "data": {
            "text/html": [
              "<div>\n",
              "<style scoped>\n",
              "    .dataframe tbody tr th:only-of-type {\n",
              "        vertical-align: middle;\n",
              "    }\n",
              "\n",
              "    .dataframe tbody tr th {\n",
              "        vertical-align: top;\n",
              "    }\n",
              "\n",
              "    .dataframe thead th {\n",
              "        text-align: right;\n",
              "    }\n",
              "</style>\n",
              "<table border=\"1\" class=\"dataframe\">\n",
              "  <thead>\n",
              "    <tr style=\"text-align: right;\">\n",
              "      <th></th>\n",
              "      <th>f01</th>\n",
              "      <th>f02</th>\n",
              "      <th>f03</th>\n",
              "      <th>f04</th>\n",
              "      <th>f05</th>\n",
              "      <th>f06</th>\n",
              "      <th>f07</th>\n",
              "      <th>f08</th>\n",
              "      <th>volume_adi</th>\n",
              "      <th>volume_fi</th>\n",
              "      <th>volatility_bbm</th>\n",
              "      <th>trend_macd</th>\n",
              "      <th>trend_vortex_ind_diff</th>\n",
              "      <th>momentum_rsi</th>\n",
              "      <th>Close</th>\n",
              "      <th>trend_cci</th>\n",
              "      <th>volatility_kcw</th>\n",
              "      <th>trend_dpo</th>\n",
              "    </tr>\n",
              "  </thead>\n",
              "  <tbody>\n",
              "    <tr>\n",
              "      <th>0</th>\n",
              "      <td>0.038462</td>\n",
              "      <td>-0.087511</td>\n",
              "      <td>16.606185</td>\n",
              "      <td>NaN</td>\n",
              "      <td>16.606185</td>\n",
              "      <td>NaN</td>\n",
              "      <td>1.0</td>\n",
              "      <td>1.0</td>\n",
              "      <td>5.292306e+06</td>\n",
              "      <td>0.000000e+00</td>\n",
              "      <td>64.968750</td>\n",
              "      <td>0.000000</td>\n",
              "      <td>0.000000</td>\n",
              "      <td>100.000000</td>\n",
              "      <td>64.96875</td>\n",
              "      <td>0.000000</td>\n",
              "      <td>15.227934</td>\n",
              "      <td>372.483096</td>\n",
              "    </tr>\n",
              "    <tr>\n",
              "      <th>1</th>\n",
              "      <td>0.002742</td>\n",
              "      <td>0.013902</td>\n",
              "      <td>16.462933</td>\n",
              "      <td>-2174400.0</td>\n",
              "      <td>16.537122</td>\n",
              "      <td>0.707107</td>\n",
              "      <td>1.0</td>\n",
              "      <td>2.0</td>\n",
              "      <td>9.045085e+06</td>\n",
              "      <td>5.073512e+07</td>\n",
              "      <td>66.765625</td>\n",
              "      <td>0.286681</td>\n",
              "      <td>0.019396</td>\n",
              "      <td>100.000000</td>\n",
              "      <td>68.56250</td>\n",
              "      <td>66.666667</td>\n",
              "      <td>11.108496</td>\n",
              "      <td>370.686221</td>\n",
              "    </tr>\n",
              "    <tr>\n",
              "      <th>2</th>\n",
              "      <td>-0.034884</td>\n",
              "      <td>0.048289</td>\n",
              "      <td>16.603739</td>\n",
              "      <td>2134600.0</td>\n",
              "      <td>16.559824</td>\n",
              "      <td>0.243662</td>\n",
              "      <td>-1.0</td>\n",
              "      <td>1.0</td>\n",
              "      <td>3.512422e+06</td>\n",
              "      <td>4.087529e+07</td>\n",
              "      <td>66.989583</td>\n",
              "      <td>0.418278</td>\n",
              "      <td>0.020153</td>\n",
              "      <td>74.787394</td>\n",
              "      <td>67.43750</td>\n",
              "      <td>45.254470</td>\n",
              "      <td>13.191600</td>\n",
              "      <td>370.462263</td>\n",
              "    </tr>\n",
              "    <tr>\n",
              "      <th>3</th>\n",
              "      <td>-0.005131</td>\n",
              "      <td>-0.035538</td>\n",
              "      <td>16.049024</td>\n",
              "      <td>-6919600.0</td>\n",
              "      <td>16.454468</td>\n",
              "      <td>-0.165545</td>\n",
              "      <td>-1.0</td>\n",
              "      <td>0.0</td>\n",
              "      <td>7.141766e+06</td>\n",
              "      <td>3.399438e+07</td>\n",
              "      <td>66.906250</td>\n",
              "      <td>0.454292</td>\n",
              "      <td>0.007462</td>\n",
              "      <td>62.922913</td>\n",
              "      <td>66.65625</td>\n",
              "      <td>-25.659472</td>\n",
              "      <td>12.448327</td>\n",
              "      <td>370.545596</td>\n",
              "    </tr>\n",
              "    <tr>\n",
              "      <th>4</th>\n",
              "      <td>0.044643</td>\n",
              "      <td>-0.006072</td>\n",
              "      <td>15.764388</td>\n",
              "      <td>-2311800.0</td>\n",
              "      <td>16.349449</td>\n",
              "      <td>1.178915</td>\n",
              "      <td>1.0</td>\n",
              "      <td>1.0</td>\n",
              "      <td>1.405287e+07</td>\n",
              "      <td>3.195889e+07</td>\n",
              "      <td>67.418750</td>\n",
              "      <td>0.701690</td>\n",
              "      <td>0.015010</td>\n",
              "      <td>77.042704</td>\n",
              "      <td>69.46875</td>\n",
              "      <td>53.373615</td>\n",
              "      <td>12.303868</td>\n",
              "      <td>370.033096</td>\n",
              "    </tr>\n",
              "  </tbody>\n",
              "</table>\n",
              "</div>"
            ],
            "text/plain": [
              "        f01       f02        f03  ...  trend_cci  volatility_kcw   trend_dpo\n",
              "0  0.038462 -0.087511  16.606185  ...   0.000000       15.227934  372.483096\n",
              "1  0.002742  0.013902  16.462933  ...  66.666667       11.108496  370.686221\n",
              "2 -0.034884  0.048289  16.603739  ...  45.254470       13.191600  370.462263\n",
              "3 -0.005131 -0.035538  16.049024  ... -25.659472       12.448327  370.545596\n",
              "4  0.044643 -0.006072  15.764388  ...  53.373615       12.303868  370.033096\n",
              "\n",
              "[5 rows x 18 columns]"
            ]
          },
          "metadata": {
            "tags": []
          },
          "execution_count": 68
        }
      ]
    },
    {
      "cell_type": "markdown",
      "metadata": {
        "id": "oBH1pwOcQ_0a"
      },
      "source": [
        "#**Feature Selection**"
      ]
    },
    {
      "cell_type": "markdown",
      "metadata": {
        "id": "8tyLAA0zSNvh"
      },
      "source": [
        "#normalization\n"
      ]
    },
    {
      "cell_type": "code",
      "metadata": {
        "id": "HN2c7ix2SQVu"
      },
      "source": [
        "from sklearn.preprocessing import StandardScaler,Normalizer"
      ],
      "execution_count": 69,
      "outputs": []
    },
    {
      "cell_type": "code",
      "metadata": {
        "id": "3NlHn6C8QNn0",
        "outputId": "505b35e5-d238-453c-ee60-f5a4b7622348",
        "colab": {
          "base_uri": "https://localhost:8080/"
        }
      },
      "source": [
        "#normalizing the inputs\n",
        "std_scaler = StandardScaler()\n",
        "features_scaled = std_scaler.fit_transform(features.dropna())\n",
        "features_scaled.shape"
      ],
      "execution_count": 70,
      "outputs": [
        {
          "output_type": "execute_result",
          "data": {
            "text/plain": [
              "(5451, 18)"
            ]
          },
          "metadata": {
            "tags": []
          },
          "execution_count": 70
        }
      ]
    },
    {
      "cell_type": "code",
      "metadata": {
        "id": "zIfqezTBRIJf",
        "outputId": "d4635d56-1b0c-44ac-d9a3-ce3f817ce408",
        "colab": {
          "base_uri": "https://localhost:8080/",
          "height": 215
        }
      },
      "source": [
        "df = pd.DataFrame(features_scaled,index=features.dropna().index)\n",
        "df.columns = features.dropna().columns\n",
        "df.head()"
      ],
      "execution_count": 71,
      "outputs": [
        {
          "output_type": "execute_result",
          "data": {
            "text/html": [
              "<div>\n",
              "<style scoped>\n",
              "    .dataframe tbody tr th:only-of-type {\n",
              "        vertical-align: middle;\n",
              "    }\n",
              "\n",
              "    .dataframe tbody tr th {\n",
              "        vertical-align: top;\n",
              "    }\n",
              "\n",
              "    .dataframe thead th {\n",
              "        text-align: right;\n",
              "    }\n",
              "</style>\n",
              "<table border=\"1\" class=\"dataframe\">\n",
              "  <thead>\n",
              "    <tr style=\"text-align: right;\">\n",
              "      <th></th>\n",
              "      <th>f01</th>\n",
              "      <th>f02</th>\n",
              "      <th>f03</th>\n",
              "      <th>f04</th>\n",
              "      <th>f05</th>\n",
              "      <th>f06</th>\n",
              "      <th>f07</th>\n",
              "      <th>f08</th>\n",
              "      <th>volume_adi</th>\n",
              "      <th>volume_fi</th>\n",
              "      <th>volatility_bbm</th>\n",
              "      <th>trend_macd</th>\n",
              "      <th>trend_vortex_ind_diff</th>\n",
              "      <th>momentum_rsi</th>\n",
              "      <th>Close</th>\n",
              "      <th>trend_cci</th>\n",
              "      <th>volatility_kcw</th>\n",
              "      <th>trend_dpo</th>\n",
              "    </tr>\n",
              "  </thead>\n",
              "  <tbody>\n",
              "    <tr>\n",
              "      <th>1</th>\n",
              "      <td>0.068675</td>\n",
              "      <td>0.328644</td>\n",
              "      <td>1.557357</td>\n",
              "      <td>-0.446307</td>\n",
              "      <td>1.776698</td>\n",
              "      <td>0.059109</td>\n",
              "      <td>0.992876</td>\n",
              "      <td>0.006742</td>\n",
              "      <td>-1.323923</td>\n",
              "      <td>1.299385</td>\n",
              "      <td>-0.552209</td>\n",
              "      <td>-0.216073</td>\n",
              "      <td>-0.168548</td>\n",
              "      <td>3.805881</td>\n",
              "      <td>-0.549139</td>\n",
              "      <td>0.415262</td>\n",
              "      <td>0.795762</td>\n",
              "      <td>14.062187</td>\n",
              "    </tr>\n",
              "    <tr>\n",
              "      <th>2</th>\n",
              "      <td>-1.269443</td>\n",
              "      <td>1.129351</td>\n",
              "      <td>1.795565</td>\n",
              "      <td>0.438990</td>\n",
              "      <td>1.819147</td>\n",
              "      <td>-0.284824</td>\n",
              "      <td>-1.011630</td>\n",
              "      <td>-0.051873</td>\n",
              "      <td>-1.331631</td>\n",
              "      <td>1.030197</td>\n",
              "      <td>-0.551870</td>\n",
              "      <td>-0.208480</td>\n",
              "      <td>-0.166186</td>\n",
              "      <td>1.741754</td>\n",
              "      <td>-0.550816</td>\n",
              "      <td>0.224048</td>\n",
              "      <td>1.228329</td>\n",
              "      <td>14.053694</td>\n",
              "    </tr>\n",
              "    <tr>\n",
              "      <th>3</th>\n",
              "      <td>-0.211312</td>\n",
              "      <td>-0.822557</td>\n",
              "      <td>0.857129</td>\n",
              "      <td>-1.421223</td>\n",
              "      <td>1.622152</td>\n",
              "      <td>-0.588506</td>\n",
              "      <td>-1.011630</td>\n",
              "      <td>-0.110487</td>\n",
              "      <td>-1.326575</td>\n",
              "      <td>0.842339</td>\n",
              "      <td>-0.551996</td>\n",
              "      <td>-0.206402</td>\n",
              "      <td>-0.205779</td>\n",
              "      <td>0.770423</td>\n",
              "      <td>-0.551980</td>\n",
              "      <td>-0.409225</td>\n",
              "      <td>1.073984</td>\n",
              "      <td>14.056854</td>\n",
              "    </tr>\n",
              "    <tr>\n",
              "      <th>4</th>\n",
              "      <td>1.558815</td>\n",
              "      <td>-0.136446</td>\n",
              "      <td>0.375597</td>\n",
              "      <td>-0.474536</td>\n",
              "      <td>1.425787</td>\n",
              "      <td>0.409248</td>\n",
              "      <td>0.992876</td>\n",
              "      <td>-0.051873</td>\n",
              "      <td>-1.316947</td>\n",
              "      <td>0.786767</td>\n",
              "      <td>-0.551220</td>\n",
              "      <td>-0.192127</td>\n",
              "      <td>-0.182230</td>\n",
              "      <td>1.926394</td>\n",
              "      <td>-0.547788</td>\n",
              "      <td>0.296553</td>\n",
              "      <td>1.043987</td>\n",
              "      <td>14.037419</td>\n",
              "    </tr>\n",
              "    <tr>\n",
              "      <th>5</th>\n",
              "      <td>-1.356091</td>\n",
              "      <td>1.426933</td>\n",
              "      <td>0.495037</td>\n",
              "      <td>0.105951</td>\n",
              "      <td>1.146003</td>\n",
              "      <td>-0.667617</td>\n",
              "      <td>-1.011630</td>\n",
              "      <td>-0.110487</td>\n",
              "      <td>-1.324518</td>\n",
              "      <td>0.586820</td>\n",
              "      <td>-0.551350</td>\n",
              "      <td>-0.193199</td>\n",
              "      <td>-0.170411</td>\n",
              "      <td>0.210664</td>\n",
              "      <td>-0.551608</td>\n",
              "      <td>0.129586</td>\n",
              "      <td>1.006903</td>\n",
              "      <td>14.040659</td>\n",
              "    </tr>\n",
              "  </tbody>\n",
              "</table>\n",
              "</div>"
            ],
            "text/plain": [
              "        f01       f02       f03  ...  trend_cci  volatility_kcw  trend_dpo\n",
              "1  0.068675  0.328644  1.557357  ...   0.415262        0.795762  14.062187\n",
              "2 -1.269443  1.129351  1.795565  ...   0.224048        1.228329  14.053694\n",
              "3 -0.211312 -0.822557  0.857129  ...  -0.409225        1.073984  14.056854\n",
              "4  1.558815 -0.136446  0.375597  ...   0.296553        1.043987  14.037419\n",
              "5 -1.356091  1.426933  0.495037  ...   0.129586        1.006903  14.040659\n",
              "\n",
              "[5 rows x 18 columns]"
            ]
          },
          "metadata": {
            "tags": []
          },
          "execution_count": 71
        }
      ]
    },
    {
      "cell_type": "code",
      "metadata": {
        "id": "wbz49W09Ryw5",
        "outputId": "8e970cfe-fcac-48e0-bf88-6a03633f8d1a",
        "colab": {
          "base_uri": "https://localhost:8080/"
        }
      },
      "source": [
        "input_df = df\n",
        "output_df = df['Close'] \n",
        "print(output_df.tail())\n"
      ],
      "execution_count": 72,
      "outputs": [
        {
          "output_type": "stream",
          "text": [
            "5447    4.062557\n",
            "5448    4.134441\n",
            "5449    3.873825\n",
            "5450    3.826623\n",
            "5451    3.892097\n",
            "Name: Close, dtype: float64\n"
          ],
          "name": "stdout"
        }
      ]
    },
    {
      "cell_type": "code",
      "metadata": {
        "id": "5aVCoOa3W0oE",
        "outputId": "f117bd17-2098-4fd3-9580-6b7fddefa290",
        "colab": {
          "base_uri": "https://localhost:8080/"
        }
      },
      "source": [
        "corr = input_df.corrwith(output_df)\n",
        "corr"
      ],
      "execution_count": 73,
      "outputs": [
        {
          "output_type": "execute_result",
          "data": {
            "text/plain": [
              "f01                     -0.014681\n",
              "f02                     -0.007903\n",
              "f03                     -0.306999\n",
              "f04                      0.000543\n",
              "f05                     -0.356253\n",
              "f06                      0.274999\n",
              "f07                     -0.002329\n",
              "f08                     -0.030896\n",
              "volume_adi               0.669658\n",
              "volume_fi                0.098408\n",
              "volatility_bbm           0.998462\n",
              "trend_macd               0.488995\n",
              "trend_vortex_ind_diff    0.125400\n",
              "momentum_rsi             0.159044\n",
              "Close                    1.000000\n",
              "trend_cci                0.116792\n",
              "volatility_kcw          -0.338337\n",
              "trend_dpo               -0.076758\n",
              "dtype: float64"
            ]
          },
          "metadata": {
            "tags": []
          },
          "execution_count": 73
        }
      ]
    },
    {
      "cell_type": "code",
      "metadata": {
        "id": "suMtod_imd1f",
        "outputId": "1b04900e-e4ad-4887-be70-c3a1fd936a06",
        "colab": {
          "base_uri": "https://localhost:8080/"
        }
      },
      "source": [
        "selected_columns = corr[corr>0.1].index.to_list()\n",
        "corr = input_df[selected_columns].corrwith(output_df)\n",
        "corr"
      ],
      "execution_count": 74,
      "outputs": [
        {
          "output_type": "execute_result",
          "data": {
            "text/plain": [
              "f06                      0.274999\n",
              "volume_adi               0.669658\n",
              "volatility_bbm           0.998462\n",
              "trend_macd               0.488995\n",
              "trend_vortex_ind_diff    0.125400\n",
              "momentum_rsi             0.159044\n",
              "Close                    1.000000\n",
              "trend_cci                0.116792\n",
              "dtype: float64"
            ]
          },
          "metadata": {
            "tags": []
          },
          "execution_count": 74
        }
      ]
    },
    {
      "cell_type": "code",
      "metadata": {
        "id": "A3LhcvbTgjxl"
      },
      "source": [
        "import seaborn as sns\n",
        "from scipy.cluster import hierarchy\n",
        "from scipy.spatial import distance"
      ],
      "execution_count": 75,
      "outputs": []
    },
    {
      "cell_type": "code",
      "metadata": {
        "id": "CPM9qGMaf7Z2",
        "outputId": "797fc680-3f2f-4055-8c13-cb601956773d",
        "colab": {
          "base_uri": "https://localhost:8080/",
          "height": 447
        }
      },
      "source": [
        "corr_matrix = input_df[selected_features].corr()\n",
        "correlations_array = np.asarray(corr_matrix)\n",
        "linkage = hierarchy.linkage(distance.pdist(correlations_array),method='average')\n",
        "g=sns.clustermap(corr_matrix,row_linkage=linkage,col_linkage=linkage,row_cluster=True,col_cluster=True,figsize=(6,6),cmap='Greens')\n",
        "plt.setp(g.ax_heatmap.yaxis.get_majorticklabels(), rotation=0)\n",
        "plt.show()"
      ],
      "execution_count": 76,
      "outputs": [
        {
          "output_type": "display_data",
          "data": {
            "image/png": "[encoded data removed]",
            "text/plain": [
              "<Figure size 432x432 with 4 Axes>"
            ]
          },
          "metadata": {
            "tags": [],
            "needs_background": "light"
          }
        }
      ]
    },
    {
      "cell_type": "code",
      "metadata": {
        "id": "41L9mtH_qIGK",
        "outputId": "f669c152-1e36-421a-d14a-333bc96942df",
        "colab": {
          "base_uri": "https://localhost:8080/"
        }
      },
      "source": [
        "#ignore the close input\n",
        "label_order = corr_matrix.iloc[:,g.dendrogram_row.reordered_ind].columns\n",
        "print(\"Correlation Strength\")\n",
        "print(corr[corr>0.1].sort_values(ascending=False))"
      ],
      "execution_count": 77,
      "outputs": [
        {
          "output_type": "stream",
          "text": [
            "Correlation Strength\n",
            "Close                    1.000000\n",
            "volatility_bbm           0.998462\n",
            "volume_adi               0.669658\n",
            "trend_macd               0.488995\n",
            "f06                      0.274999\n",
            "momentum_rsi             0.159044\n",
            "trend_vortex_ind_diff    0.125400\n",
            "trend_cci                0.116792\n",
            "dtype: float64\n"
          ],
          "name": "stdout"
        }
      ]
    },
    {
      "cell_type": "code",
      "metadata": {
        "id": "yQYi-uMqsKks",
        "outputId": "a5be0831-7596-4cf1-f0de-04be5a39700a",
        "colab": {
          "base_uri": "https://localhost:8080/",
          "height": 215
        }
      },
      "source": [
        "input_df.head()"
      ],
      "execution_count": 78,
      "outputs": [
        {
          "output_type": "execute_result",
          "data": {
            "text/html": [
              "<div>\n",
              "<style scoped>\n",
              "    .dataframe tbody tr th:only-of-type {\n",
              "        vertical-align: middle;\n",
              "    }\n",
              "\n",
              "    .dataframe tbody tr th {\n",
              "        vertical-align: top;\n",
              "    }\n",
              "\n",
              "    .dataframe thead th {\n",
              "        text-align: right;\n",
              "    }\n",
              "</style>\n",
              "<table border=\"1\" class=\"dataframe\">\n",
              "  <thead>\n",
              "    <tr style=\"text-align: right;\">\n",
              "      <th></th>\n",
              "      <th>f01</th>\n",
              "      <th>f02</th>\n",
              "      <th>f03</th>\n",
              "      <th>f04</th>\n",
              "      <th>f05</th>\n",
              "      <th>f06</th>\n",
              "      <th>f07</th>\n",
              "      <th>f08</th>\n",
              "      <th>volume_adi</th>\n",
              "      <th>volume_fi</th>\n",
              "      <th>volatility_bbm</th>\n",
              "      <th>trend_macd</th>\n",
              "      <th>trend_vortex_ind_diff</th>\n",
              "      <th>momentum_rsi</th>\n",
              "      <th>Close</th>\n",
              "      <th>trend_cci</th>\n",
              "      <th>volatility_kcw</th>\n",
              "      <th>trend_dpo</th>\n",
              "    </tr>\n",
              "  </thead>\n",
              "  <tbody>\n",
              "    <tr>\n",
              "      <th>1</th>\n",
              "      <td>0.068675</td>\n",
              "      <td>0.328644</td>\n",
              "      <td>1.557357</td>\n",
              "      <td>-0.446307</td>\n",
              "      <td>1.776698</td>\n",
              "      <td>0.059109</td>\n",
              "      <td>0.992876</td>\n",
              "      <td>0.006742</td>\n",
              "      <td>-1.323923</td>\n",
              "      <td>1.299385</td>\n",
              "      <td>-0.552209</td>\n",
              "      <td>-0.216073</td>\n",
              "      <td>-0.168548</td>\n",
              "      <td>3.805881</td>\n",
              "      <td>-0.549139</td>\n",
              "      <td>0.415262</td>\n",
              "      <td>0.795762</td>\n",
              "      <td>14.062187</td>\n",
              "    </tr>\n",
              "    <tr>\n",
              "      <th>2</th>\n",
              "      <td>-1.269443</td>\n",
              "      <td>1.129351</td>\n",
              "      <td>1.795565</td>\n",
              "      <td>0.438990</td>\n",
              "      <td>1.819147</td>\n",
              "      <td>-0.284824</td>\n",
              "      <td>-1.011630</td>\n",
              "      <td>-0.051873</td>\n",
              "      <td>-1.331631</td>\n",
              "      <td>1.030197</td>\n",
              "      <td>-0.551870</td>\n",
              "      <td>-0.208480</td>\n",
              "      <td>-0.166186</td>\n",
              "      <td>1.741754</td>\n",
              "      <td>-0.550816</td>\n",
              "      <td>0.224048</td>\n",
              "      <td>1.228329</td>\n",
              "      <td>14.053694</td>\n",
              "    </tr>\n",
              "    <tr>\n",
              "      <th>3</th>\n",
              "      <td>-0.211312</td>\n",
              "      <td>-0.822557</td>\n",
              "      <td>0.857129</td>\n",
              "      <td>-1.421223</td>\n",
              "      <td>1.622152</td>\n",
              "      <td>-0.588506</td>\n",
              "      <td>-1.011630</td>\n",
              "      <td>-0.110487</td>\n",
              "      <td>-1.326575</td>\n",
              "      <td>0.842339</td>\n",
              "      <td>-0.551996</td>\n",
              "      <td>-0.206402</td>\n",
              "      <td>-0.205779</td>\n",
              "      <td>0.770423</td>\n",
              "      <td>-0.551980</td>\n",
              "      <td>-0.409225</td>\n",
              "      <td>1.073984</td>\n",
              "      <td>14.056854</td>\n",
              "    </tr>\n",
              "    <tr>\n",
              "      <th>4</th>\n",
              "      <td>1.558815</td>\n",
              "      <td>-0.136446</td>\n",
              "      <td>0.375597</td>\n",
              "      <td>-0.474536</td>\n",
              "      <td>1.425787</td>\n",
              "      <td>0.409248</td>\n",
              "      <td>0.992876</td>\n",
              "      <td>-0.051873</td>\n",
              "      <td>-1.316947</td>\n",
              "      <td>0.786767</td>\n",
              "      <td>-0.551220</td>\n",
              "      <td>-0.192127</td>\n",
              "      <td>-0.182230</td>\n",
              "      <td>1.926394</td>\n",
              "      <td>-0.547788</td>\n",
              "      <td>0.296553</td>\n",
              "      <td>1.043987</td>\n",
              "      <td>14.037419</td>\n",
              "    </tr>\n",
              "    <tr>\n",
              "      <th>5</th>\n",
              "      <td>-1.356091</td>\n",
              "      <td>1.426933</td>\n",
              "      <td>0.495037</td>\n",
              "      <td>0.105951</td>\n",
              "      <td>1.146003</td>\n",
              "      <td>-0.667617</td>\n",
              "      <td>-1.011630</td>\n",
              "      <td>-0.110487</td>\n",
              "      <td>-1.324518</td>\n",
              "      <td>0.586820</td>\n",
              "      <td>-0.551350</td>\n",
              "      <td>-0.193199</td>\n",
              "      <td>-0.170411</td>\n",
              "      <td>0.210664</td>\n",
              "      <td>-0.551608</td>\n",
              "      <td>0.129586</td>\n",
              "      <td>1.006903</td>\n",
              "      <td>14.040659</td>\n",
              "    </tr>\n",
              "  </tbody>\n",
              "</table>\n",
              "</div>"
            ],
            "text/plain": [
              "        f01       f02       f03  ...  trend_cci  volatility_kcw  trend_dpo\n",
              "1  0.068675  0.328644  1.557357  ...   0.415262        0.795762  14.062187\n",
              "2 -1.269443  1.129351  1.795565  ...   0.224048        1.228329  14.053694\n",
              "3 -0.211312 -0.822557  0.857129  ...  -0.409225        1.073984  14.056854\n",
              "4  1.558815 -0.136446  0.375597  ...   0.296553        1.043987  14.037419\n",
              "5 -1.356091  1.426933  0.495037  ...   0.129586        1.006903  14.040659\n",
              "\n",
              "[5 rows x 18 columns]"
            ]
          },
          "metadata": {
            "tags": []
          },
          "execution_count": 78
        }
      ]
    },
    {
      "cell_type": "markdown",
      "metadata": {
        "id": "8BO9Z0gp-iVG"
      },
      "source": [
        "# **Backtesting and prediction loop**"
      ]
    },
    {
      "cell_type": "code",
      "metadata": {
        "id": "ZF5XcFHiDeg7"
      },
      "source": [
        "series = input_df\n",
        "output = output_df\n",
        "X = series.values\n",
        "n_train = 504\n",
        "n_records = len(X)\n",
        "acc_results = output[504:len(X)]\n",
        "\n",
        "\n",
        "def model_train(model):\n",
        "  prediction = np.empty(shape=(0,0))\n",
        "  for i in range(n_train, n_records):\n",
        "    train_x,test_x=X[(i-n_train)+0:i],X[i:i+1]\n",
        "    train_y,test_y=output[(i-n_train)+0:i],output[i:i+1]\n",
        "    model.fit(train_x,train_y)\n",
        "    pred_value = model.predict(test_x)\n",
        "    prediction = np.append(prediction,pred_value)\n",
        "  return prediction\n",
        "from sklearn.metrics import mean_squared_error\n",
        "def rmse_value(acc_results,predictions):\n",
        "  mse = mean_squared_error(acc_results,predictions)\n",
        "  rmse = np.sqrt(mse)\n",
        "  return rmse\n",
        "  "
      ],
      "execution_count": 79,
      "outputs": []
    },
    {
      "cell_type": "markdown",
      "metadata": {
        "id": "LxG82U2Z_NLp"
      },
      "source": [
        "###**defining models**"
      ]
    },
    {
      "cell_type": "code",
      "metadata": {
        "id": "wzkRADuQ_PGU"
      },
      "source": [
        "from sklearn.tree import DecisionTreeRegressor\n",
        "regression_tree_model = DecisionTreeRegressor(criterion='friedman_mse',\n",
        "                                              max_depth=10,\n",
        "                                              min_samples_leaf=50)"
      ],
      "execution_count": 80,
      "outputs": []
    },
    {
      "cell_type": "code",
      "metadata": {
        "id": "JJDFNyIuH_dv",
        "outputId": "2c641b54-7f31-4b80-9153-546eda3d80ec",
        "colab": {
          "base_uri": "https://localhost:8080/"
        }
      },
      "source": [
        "predictions = model_train(regression_tree_model)\n",
        "predictions"
      ],
      "execution_count": 81,
      "outputs": [
        {
          "output_type": "execute_result",
          "data": {
            "text/plain": [
              "array([-0.62281335, -0.62294387, -0.6230616 , ...,  3.47554522,\n",
              "        3.47411889,  3.47183466])"
            ]
          },
          "metadata": {
            "tags": []
          },
          "execution_count": 81
        }
      ]
    },
    {
      "cell_type": "code",
      "metadata": {
        "id": "ktV6dDTHJkgy",
        "outputId": "b6017f30-f266-4abe-9f89-3e0db035c0ff",
        "colab": {
          "base_uri": "https://localhost:8080/"
        }
      },
      "source": [
        "tree_rmse = rmse_value(acc_results,predictions)\n",
        "tree_rmse"
      ],
      "execution_count": 82,
      "outputs": [
        {
          "output_type": "execute_result",
          "data": {
            "text/plain": [
              "0.10816037866993031"
            ]
          },
          "metadata": {
            "tags": []
          },
          "execution_count": 82
        }
      ]
    },
    {
      "cell_type": "markdown",
      "metadata": {
        "id": "wds2kXDQT2IR"
      },
      "source": [
        "getting the best parameters for the decision tree"
      ]
    },
    {
      "cell_type": "code",
      "metadata": {
        "id": "ogIgcOSpT52t"
      },
      "source": [
        "from sklearn.model_selection import GridSearchCV\n",
        "from sklearn.pipeline import make_pipeline\n",
        "pipe_tree = make_pipeline(regression_tree_model)\n",
        "depths = np.arange(1, 21)\n",
        "num_leafs = [1, 5, 10, 20, 50, 100]\n",
        "param_grid = [{'decisiontreeregressor__max_depth':depths,\n",
        "              'decisiontreeregressor__min_samples_leaf':num_leafs}]\n",
        "gs = GridSearchCV(estimator=pipe_tree, param_grid=param_grid, scoring='neg_mean_squared_error', cv=10)"
      ],
      "execution_count": 91,
      "outputs": []
    },
    {
      "cell_type": "code",
      "metadata": {
        "id": "jDhC-T2_VW8K"
      },
      "source": [
        "temp_x = X[4947:5451]\n",
        "temp_y = output[4947:5451]\n",
        "gs.fit(temp_x,temp_y)"
      ],
      "execution_count": null,
      "outputs": []
    },
    {
      "cell_type": "code",
      "metadata": {
        "id": "hppVbYbzWfkM",
        "outputId": "6913cdb0-37d4-4ec3-842c-08e7a07f77ac",
        "colab": {
          "base_uri": "https://localhost:8080/"
        }
      },
      "source": [
        "print(gs.best_params_)\n",
        "print(-gs.best_score_)"
      ],
      "execution_count": 94,
      "outputs": [
        {
          "output_type": "stream",
          "text": [
            "{'decisiontreeregressor__max_depth': 14, 'decisiontreeregressor__min_samples_leaf': 10}\n",
            "0.023521821914327685\n"
          ],
          "name": "stdout"
        }
      ]
    },
    {
      "cell_type": "markdown",
      "metadata": {
        "id": "zqPYq7eNYFvz"
      },
      "source": [
        "running our main loop function over the values with our updated parameters"
      ]
    },
    {
      "cell_type": "code",
      "metadata": {
        "id": "uXF6-kRaYOO9",
        "outputId": "8cac283f-542a-4dab-cced-b33e778790d5",
        "colab": {
          "base_uri": "https://localhost:8080/"
        }
      },
      "source": [
        "regression_tree_model = DecisionTreeRegressor(criterion='friedman_mse',\n",
        "                                              max_depth=14,\n",
        "                                              min_samples_leaf=10)\n",
        "predictions = model_train(regression_tree_model)\n",
        "tree_rmse = rmse_value(acc_results,predictions)\n",
        "tree_rmse"
      ],
      "execution_count": 96,
      "outputs": [
        {
          "output_type": "execute_result",
          "data": {
            "text/plain": [
              "0.034721461347762834"
            ]
          },
          "metadata": {
            "tags": []
          },
          "execution_count": 96
        }
      ]
    },
    {
      "cell_type": "code",
      "metadata": {
        "id": "dIvYPCbYYlw0"
      },
      "source": [
        ""
      ],
      "execution_count": null,
      "outputs": []
    }
  ]
}